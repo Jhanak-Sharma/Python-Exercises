{
 "cells": [
  {
   "cell_type": "code",
   "execution_count": null,
   "metadata": {},
   "outputs": [],
   "source": [
    "import pandas as pd\n",
    "import numpy as np\n"
   ]
  },
  {
   "cell_type": "code",
   "execution_count": null,
   "metadata": {},
   "outputs": [],
   "source": [
    "cust_data = pd.read_csv('Cust_data.csv')\n",
    "cust_demo = pd.read_csv('Cust_demo.csv')"
   ]
  },
  {
   "cell_type": "markdown",
   "metadata": {},
   "source": [
    "## 1. Create sub set of cust_demo as “cust_s1” with ID, age, Gender and Location variables using the condition marital_status = “Married” and Own_house = 1 and age>28."
   ]
  },
  {
   "cell_type": "code",
   "execution_count": null,
   "metadata": {},
   "outputs": [],
   "source": [
    "demo_subset = cust_demo[['ID','age','Gender','Location']]\n",
    "cust_s1 = demo_subset[(cust_demo['Martial_Status']=='Married') & (cust_demo['Own_House']== 1) & (cust_demo['age']>28)]"
   ]
  },
  {
   "cell_type": "markdown",
   "metadata": {},
   "source": [
    "## 2. Sort the cust_s1 dataset using location in ascending order and age in descending order with in the location."
   ]
  },
  {
   "cell_type": "code",
   "execution_count": null,
   "metadata": {},
   "outputs": [],
   "source": [
    "cust_s1.sort_values(by=['Location','age'], ascending=[True,False]).head(50)"
   ]
  },
  {
   "cell_type": "markdown",
   "metadata": {},
   "source": [
    "## 3. Rename the variable “NumberOfDependents” as “No_of_dependents” in cust_demo data."
   ]
  },
  {
   "cell_type": "code",
   "execution_count": null,
   "metadata": {},
   "outputs": [],
   "source": [
    "cust_demo = cust_demo.rename(columns={'NumberOfDependents': 'No_of_dependents'})"
   ]
  },
  {
   "cell_type": "markdown",
   "metadata": {},
   "source": [
    "## 4. Remove duplicates from the both data sets Cust_data & Cust_Demo."
   ]
  },
  {
   "cell_type": "code",
   "execution_count": null,
   "metadata": {},
   "outputs": [],
   "source": [
    "cust_demo = cust_demo[cust_demo.duplicated()==False]\n",
    "cust_data = cust_data[cust_data.duplicated()==False]"
   ]
  },
  {
   "cell_type": "markdown",
   "metadata": {},
   "source": [
    "## 5. Create new variable as “No_of_30_plus_DPD = No_of_30_59_DPD+No_of_90_DPD+ No_of_60_89_DPD”, “No_of_60_plus_DPD = No_of_90_DPD+ No_of_60_89_DPD” in cust_data."
   ]
  },
  {
   "cell_type": "code",
   "execution_count": null,
   "metadata": {},
   "outputs": [],
   "source": [
    "cust_data['No_of_30_plus_DPD'] = cust_data['No_of_30_59_DPD'] + cust_data['No_of_90_DPD'] + cust_data['No_of_60_89_DPD']\n",
    "cust_data['No_of_60_plus_DPD'] = cust_data['No_of_90_DPD'] + cust_data['No_of_60_89_DPD']"
   ]
  },
  {
   "cell_type": "markdown",
   "metadata": {},
   "source": [
    "## 6. Perform below joins between cust_data & cust_demo.\n",
    "\n",
    "a. Create data set “cust_leftjoin” using Left Join\n",
    "\n",
    "b. Create data set “cust_rightjoin” using right Join\n",
    "\n",
    "c. Create data set “cust_innterjoin” using inner Join\n",
    "\n",
    "d. Create data set “cust_fulljoin” using full Join"
   ]
  },
  {
   "cell_type": "markdown",
   "metadata": {},
   "source": [
    "### a. Create data set “cust_leftjoin” using Left Join"
   ]
  },
  {
   "cell_type": "code",
   "execution_count": null,
   "metadata": {},
   "outputs": [],
   "source": [
    "cust_leftjoin = pd.merge(cust_data, cust_demo, on='ID' , how='left')"
   ]
  },
  {
   "cell_type": "markdown",
   "metadata": {},
   "source": [
    "### b. Create data set “cust_rightjoin” using right Join"
   ]
  },
  {
   "cell_type": "markdown",
   "metadata": {},
   "source": [
    "cust_rightjoin = pd.merge(cust_data, cust_demo, on='ID' , how='right')"
   ]
  },
  {
   "cell_type": "markdown",
   "metadata": {},
   "source": [
    "### c. Create data set “cust_innterjoin” using inner Join"
   ]
  },
  {
   "cell_type": "code",
   "execution_count": null,
   "metadata": {},
   "outputs": [],
   "source": [
    "cust_innterjoin = pd.merge(cust_data, cust_demo, on='ID' , how='inner')"
   ]
  },
  {
   "cell_type": "markdown",
   "metadata": {},
   "source": [
    "### d. Create data set “cust_fulljoin” using full Join"
   ]
  },
  {
   "cell_type": "code",
   "execution_count": null,
   "metadata": {},
   "outputs": [],
   "source": [
    "cust_fulljoin = pd.merge(cust_data, cust_demo, on='ID' , how='outer')"
   ]
  },
  {
   "cell_type": "markdown",
   "metadata": {},
   "source": [
    "## 7. Create two data sets by taking random sample from cust_demo with 5% data in first data set and 10000 observations in second data set."
   ]
  },
  {
   "cell_type": "code",
   "execution_count": null,
   "metadata": {},
   "outputs": [],
   "source": [
    "sampled_demo = cust_demo.sample(frac=0.05, replace=False)\n",
    "tenthousands_demo = cust_demo.sample(n=10000, replace= False)"
   ]
  },
  {
   "cell_type": "markdown",
   "metadata": {},
   "source": [
    "## 8. Calculate “number of customers” and “number of married customer” using combined data set comes from left join of cust_data and cust_demo"
   ]
  },
  {
   "cell_type": "code",
   "execution_count": null,
   "metadata": {},
   "outputs": [],
   "source": [
    "new_data = pd.merge(cust_data,cust_demo[cust_demo['Martial_Status']=='Married'], how='left')"
   ]
  },
  {
   "cell_type": "code",
   "execution_count": null,
   "metadata": {},
   "outputs": [],
   "source": [
    "new_data.ID.count()"
   ]
  },
  {
   "cell_type": "code",
   "execution_count": null,
   "metadata": {},
   "outputs": [],
   "source": [
    "pd.value_counts(new_data.Martial_Status[new_data['Martial_Status']=='Married'])"
   ]
  },
  {
   "cell_type": "markdown",
   "metadata": {},
   "source": [
    "## 9. Create summary report with below column by combination of Gender, Serious_delinquency.\n",
    "\n",
    "a. Number of customers\n",
    "\n",
    "b. Percentage of customers\n",
    "\n",
    "c. Average Revolving utilization\n",
    "\n",
    "d. Standard deviation with in the utilization\n",
    "\n",
    "e. Average monthly income\n",
    "\n",
    "f. Maximum Monthly income\n",
    "\n",
    "g. Standard deviation with in the income\n",
    "\n",
    "h. Average Age\n",
    "\n",
    "i. Average Dependents"
   ]
  },
  {
   "cell_type": "code",
   "execution_count": null,
   "metadata": {},
   "outputs": [],
   "source": [
    "a = new_data[['Gender','SeriousDlqin2yrs','ID']].groupby(['Gender','SeriousDlqin2yrs']).agg({'ID':'count'}).rename(columns={'ID': 'Number of customers'})"
   ]
  },
  {
   "cell_type": "code",
   "execution_count": null,
   "metadata": {},
   "outputs": [],
   "source": [
    "b = new_data[['Gender','SeriousDlqin2yrs','ID']].groupby(['Gender','SeriousDlqin2yrs']).count()/len(new_data.ID)*100"
   ]
  },
  {
   "cell_type": "code",
   "execution_count": null,
   "metadata": {},
   "outputs": [],
   "source": [
    "c = new_data[['Gender','SeriousDlqin2yrs','RevolvingUtilization']].groupby(['Gender','SeriousDlqin2yrs']).agg({'RevolvingUtilization':'mean'}).rename(columns={'RevolvingUtilization': 'Average Revolving utilization'})"
   ]
  },
  {
   "cell_type": "code",
   "execution_count": null,
   "metadata": {},
   "outputs": [],
   "source": [
    "d = new_data[['Gender','SeriousDlqin2yrs','RevolvingUtilization']].groupby(['Gender','SeriousDlqin2yrs']).agg({'RevolvingUtilization':'std'}).rename(columns={'RevolvingUtilization': 'Standard deviation with in the utilization'})"
   ]
  },
  {
   "cell_type": "code",
   "execution_count": null,
   "metadata": {},
   "outputs": [],
   "source": [
    "e = new_data[['Gender','SeriousDlqin2yrs','MonthlyIncome']].groupby(['Gender','SeriousDlqin2yrs']).agg({'MonthlyIncome':'mean'}).rename(columns={'MonthlyIncome': 'Average monthly income'})"
   ]
  },
  {
   "cell_type": "code",
   "execution_count": null,
   "metadata": {},
   "outputs": [],
   "source": [
    "f = new_data[['Gender','SeriousDlqin2yrs','MonthlyIncome']].groupby(['Gender','SeriousDlqin2yrs']).agg({'MonthlyIncome':'max'}).rename(columns={'MonthlyIncome': 'Maximum Monthly income'})"
   ]
  },
  {
   "cell_type": "code",
   "execution_count": null,
   "metadata": {},
   "outputs": [],
   "source": [
    "g = new_data[['Gender','SeriousDlqin2yrs','MonthlyIncome']].groupby(['Gender','SeriousDlqin2yrs']).agg({'MonthlyIncome':'std'}).rename(columns={'MonthlyIncome': 'Standard deviation with in the income'})"
   ]
  },
  {
   "cell_type": "code",
   "execution_count": null,
   "metadata": {},
   "outputs": [],
   "source": [
    "h = new_data[['Gender','SeriousDlqin2yrs','age']].groupby(['Gender','SeriousDlqin2yrs']).agg({'age':'mean'}).rename(columns={'age': 'Average Age'})"
   ]
  },
  {
   "cell_type": "code",
   "execution_count": null,
   "metadata": {},
   "outputs": [],
   "source": [
    "i = new_data[['Gender','SeriousDlqin2yrs','No_of_dependents']].groupby(['Gender','SeriousDlqin2yrs']).agg({'No_of_dependents':'mean'}).rename(columns={'No_of_dependents': 'Average Dependents'})"
   ]
  },
  {
   "cell_type": "code",
   "execution_count": null,
   "metadata": {},
   "outputs": [],
   "source": [
    "pd.concat([a,b,c,d,e,f,g,h,i],axis=1)"
   ]
  },
  {
   "cell_type": "markdown",
   "metadata": {},
   "source": [
    "## 10. Create summary report with below information\n",
    "\n",
    "a. Number of married customers\n",
    "\n",
    "b. Percentage of married customers"
   ]
  },
  {
   "cell_type": "markdown",
   "metadata": {},
   "source": [
    "### a. Number of married customers"
   ]
  },
  {
   "cell_type": "code",
   "execution_count": null,
   "metadata": {},
   "outputs": [],
   "source": [
    "pd.value_counts(cust_demo.Martial_Status[cust_demo['Martial_Status']=='Married'])"
   ]
  },
  {
   "cell_type": "markdown",
   "metadata": {},
   "source": [
    "### b. Percentage of married customers"
   ]
  },
  {
   "cell_type": "code",
   "execution_count": null,
   "metadata": {},
   "outputs": [],
   "source": [
    "(pd.value_counts(cust_demo.Martial_Status[cust_demo['Martial_Status']=='Married'])/len(cust_demo))*100"
   ]
  }
 ],
 "metadata": {
  "kernelspec": {
   "display_name": "Python 2",
   "language": "python",
   "name": "python2"
  },
  "language_info": {
   "codemirror_mode": {
    "name": "ipython",
    "version": 2
   },
   "file_extension": ".py",
   "mimetype": "text/x-python",
   "name": "python",
   "nbconvert_exporter": "python",
   "pygments_lexer": "ipython2",
   "version": "2.7.15"
  }
 },
 "nbformat": 4,
 "nbformat_minor": 2
}
