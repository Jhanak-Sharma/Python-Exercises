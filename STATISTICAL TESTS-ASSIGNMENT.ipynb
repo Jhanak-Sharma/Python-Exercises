{
 "cells": [
  {
   "cell_type": "code",
   "execution_count": 1,
   "metadata": {},
   "outputs": [],
   "source": [
    "import numpy as np\n",
    "import pandas as pd\n",
    "import scipy.stats as stats"
   ]
  },
  {
   "cell_type": "markdown",
   "metadata": {},
   "source": [
    "# STATISTICAL TESTS-ASSIGNMENT"
   ]
  },
  {
   "cell_type": "markdown",
   "metadata": {},
   "source": [
    "## 1. A physician is evaluating a new diet for her patients with a family history of heart disease. To test the effectiveness of this diet, 16 patients are placed on the diet for 6 months. Their weights and triglyceride levels are measured before and after the study, and the physician wants to know if either set of measurements has changed. (Data set: dietstudy.csv)"
   ]
  },
  {
   "cell_type": "markdown",
   "metadata": {},
   "source": [
    "2 Sample T-Test(Paired)"
   ]
  },
  {
   "cell_type": "code",
   "execution_count": 2,
   "metadata": {},
   "outputs": [],
   "source": [
    "diet = pd.read_csv(\"dietstudy.csv\")"
   ]
  },
  {
   "cell_type": "code",
   "execution_count": 3,
   "metadata": {},
   "outputs": [
    {
     "data": {
      "text/html": [
       "<div>\n",
       "<style scoped>\n",
       "    .dataframe tbody tr th:only-of-type {\n",
       "        vertical-align: middle;\n",
       "    }\n",
       "\n",
       "    .dataframe tbody tr th {\n",
       "        vertical-align: top;\n",
       "    }\n",
       "\n",
       "    .dataframe thead th {\n",
       "        text-align: right;\n",
       "    }\n",
       "</style>\n",
       "<table border=\"1\" class=\"dataframe\">\n",
       "  <thead>\n",
       "    <tr style=\"text-align: right;\">\n",
       "      <th></th>\n",
       "      <th>patid</th>\n",
       "      <th>age</th>\n",
       "      <th>gender</th>\n",
       "      <th>tg0</th>\n",
       "      <th>tg1</th>\n",
       "      <th>tg2</th>\n",
       "      <th>tg3</th>\n",
       "      <th>tg4</th>\n",
       "      <th>wgt0</th>\n",
       "      <th>wgt1</th>\n",
       "      <th>wgt2</th>\n",
       "      <th>wgt3</th>\n",
       "      <th>wgt4</th>\n",
       "    </tr>\n",
       "  </thead>\n",
       "  <tbody>\n",
       "    <tr>\n",
       "      <th>0</th>\n",
       "      <td>1</td>\n",
       "      <td>45</td>\n",
       "      <td>Male</td>\n",
       "      <td>180</td>\n",
       "      <td>148</td>\n",
       "      <td>106</td>\n",
       "      <td>113</td>\n",
       "      <td>100</td>\n",
       "      <td>198</td>\n",
       "      <td>196</td>\n",
       "      <td>193</td>\n",
       "      <td>188</td>\n",
       "      <td>192</td>\n",
       "    </tr>\n",
       "    <tr>\n",
       "      <th>1</th>\n",
       "      <td>2</td>\n",
       "      <td>56</td>\n",
       "      <td>Male</td>\n",
       "      <td>139</td>\n",
       "      <td>94</td>\n",
       "      <td>119</td>\n",
       "      <td>75</td>\n",
       "      <td>92</td>\n",
       "      <td>237</td>\n",
       "      <td>233</td>\n",
       "      <td>232</td>\n",
       "      <td>228</td>\n",
       "      <td>225</td>\n",
       "    </tr>\n",
       "    <tr>\n",
       "      <th>2</th>\n",
       "      <td>3</td>\n",
       "      <td>50</td>\n",
       "      <td>Male</td>\n",
       "      <td>152</td>\n",
       "      <td>185</td>\n",
       "      <td>86</td>\n",
       "      <td>149</td>\n",
       "      <td>118</td>\n",
       "      <td>233</td>\n",
       "      <td>231</td>\n",
       "      <td>229</td>\n",
       "      <td>228</td>\n",
       "      <td>226</td>\n",
       "    </tr>\n",
       "    <tr>\n",
       "      <th>3</th>\n",
       "      <td>4</td>\n",
       "      <td>46</td>\n",
       "      <td>Female</td>\n",
       "      <td>112</td>\n",
       "      <td>145</td>\n",
       "      <td>136</td>\n",
       "      <td>149</td>\n",
       "      <td>82</td>\n",
       "      <td>179</td>\n",
       "      <td>181</td>\n",
       "      <td>177</td>\n",
       "      <td>174</td>\n",
       "      <td>172</td>\n",
       "    </tr>\n",
       "    <tr>\n",
       "      <th>4</th>\n",
       "      <td>5</td>\n",
       "      <td>64</td>\n",
       "      <td>Male</td>\n",
       "      <td>156</td>\n",
       "      <td>104</td>\n",
       "      <td>157</td>\n",
       "      <td>79</td>\n",
       "      <td>97</td>\n",
       "      <td>219</td>\n",
       "      <td>217</td>\n",
       "      <td>215</td>\n",
       "      <td>213</td>\n",
       "      <td>214</td>\n",
       "    </tr>\n",
       "  </tbody>\n",
       "</table>\n",
       "</div>"
      ],
      "text/plain": [
       "   patid  age  gender  tg0  tg1  tg2  tg3  tg4  wgt0  wgt1  wgt2  wgt3  wgt4\n",
       "0      1   45    Male  180  148  106  113  100   198   196   193   188   192\n",
       "1      2   56    Male  139   94  119   75   92   237   233   232   228   225\n",
       "2      3   50    Male  152  185   86  149  118   233   231   229   228   226\n",
       "3      4   46  Female  112  145  136  149   82   179   181   177   174   172\n",
       "4      5   64    Male  156  104  157   79   97   219   217   215   213   214"
      ]
     },
     "execution_count": 3,
     "metadata": {},
     "output_type": "execute_result"
    }
   ],
   "source": [
    "diet.head()"
   ]
  },
  {
   "cell_type": "code",
   "execution_count": 48,
   "metadata": {},
   "outputs": [
    {
     "name": "stdout",
     "output_type": "stream",
     "text": [
      "138.4375\n",
      "124.375\n"
     ]
    }
   ],
   "source": [
    "print diet.tg0.mean()\n",
    "print diet.tg4.mean()"
   ]
  },
  {
   "cell_type": "code",
   "execution_count": 49,
   "metadata": {},
   "outputs": [
    {
     "name": "stdout",
     "output_type": "stream",
     "text": [
      "198.375\n",
      "190.3125\n"
     ]
    }
   ],
   "source": [
    "print diet.wgt0.mean()\n",
    "print diet.wgt4.mean()"
   ]
  },
  {
   "cell_type": "code",
   "execution_count": 50,
   "metadata": {},
   "outputs": [
    {
     "data": {
      "text/plain": [
       "Ttest_relResult(statistic=1.2000008533342437, pvalue=0.24874946576903698)"
      ]
     },
     "execution_count": 50,
     "metadata": {},
     "output_type": "execute_result"
    }
   ],
   "source": [
    "stats.ttest_rel( a = diet.tg0,\n",
    "               b = diet.tg4 )"
   ]
  },
  {
   "cell_type": "code",
   "execution_count": 53,
   "metadata": {},
   "outputs": [
    {
     "data": {
      "text/plain": [
       "Ttest_relResult(statistic=11.174521688532522, pvalue=1.137689414996614e-08)"
      ]
     },
     "execution_count": 53,
     "metadata": {},
     "output_type": "execute_result"
    }
   ],
   "source": [
    "stats.ttest_rel( a = diet.wgt0,\n",
    "               b = diet.wgt4 )"
   ]
  },
  {
   "cell_type": "markdown",
   "metadata": {},
   "source": [
    "### The weight measurement has significangtly changed with 90% confidence with mean of weight after the study is less than mean of weight before the study but The triglyceride measurement has not significangtly changed with 90% confidence"
   ]
  },
  {
   "cell_type": "code",
   "execution_count": null,
   "metadata": {},
   "outputs": [],
   "source": []
  },
  {
   "cell_type": "markdown",
   "metadata": {},
   "source": [
    "## 2. An analyst at a department store wants to evaluate a recent credit card promotion. To this end, 500 cardholders were randomly selected. Half received an ad promoting a reduced interest rate on purchases made over the next three months, and half received a standard seasonal ad. Is the promotion effective to increase sales? (Data set: creditpromo.csv)"
   ]
  },
  {
   "cell_type": "markdown",
   "metadata": {},
   "source": [
    "2 Sample t-test(Independent)"
   ]
  },
  {
   "cell_type": "code",
   "execution_count": 32,
   "metadata": {},
   "outputs": [],
   "source": [
    "credit = pd.read_csv(\"creditpromo.csv\")"
   ]
  },
  {
   "cell_type": "code",
   "execution_count": 33,
   "metadata": {},
   "outputs": [
    {
     "data": {
      "text/html": [
       "<div>\n",
       "<style scoped>\n",
       "    .dataframe tbody tr th:only-of-type {\n",
       "        vertical-align: middle;\n",
       "    }\n",
       "\n",
       "    .dataframe tbody tr th {\n",
       "        vertical-align: top;\n",
       "    }\n",
       "\n",
       "    .dataframe thead th {\n",
       "        text-align: right;\n",
       "    }\n",
       "</style>\n",
       "<table border=\"1\" class=\"dataframe\">\n",
       "  <thead>\n",
       "    <tr style=\"text-align: right;\">\n",
       "      <th></th>\n",
       "      <th>id</th>\n",
       "      <th>insert</th>\n",
       "      <th>dollars</th>\n",
       "    </tr>\n",
       "  </thead>\n",
       "  <tbody>\n",
       "    <tr>\n",
       "      <th>0</th>\n",
       "      <td>148</td>\n",
       "      <td>Standard</td>\n",
       "      <td>2232.771979</td>\n",
       "    </tr>\n",
       "    <tr>\n",
       "      <th>1</th>\n",
       "      <td>572</td>\n",
       "      <td>New Promotion</td>\n",
       "      <td>1403.807542</td>\n",
       "    </tr>\n",
       "    <tr>\n",
       "      <th>2</th>\n",
       "      <td>973</td>\n",
       "      <td>Standard</td>\n",
       "      <td>2327.092181</td>\n",
       "    </tr>\n",
       "    <tr>\n",
       "      <th>3</th>\n",
       "      <td>1096</td>\n",
       "      <td>Standard</td>\n",
       "      <td>1280.030541</td>\n",
       "    </tr>\n",
       "    <tr>\n",
       "      <th>4</th>\n",
       "      <td>1541</td>\n",
       "      <td>New Promotion</td>\n",
       "      <td>1513.563200</td>\n",
       "    </tr>\n",
       "  </tbody>\n",
       "</table>\n",
       "</div>"
      ],
      "text/plain": [
       "     id         insert      dollars\n",
       "0   148       Standard  2232.771979\n",
       "1   572  New Promotion  1403.807542\n",
       "2   973       Standard  2327.092181\n",
       "3  1096       Standard  1280.030541\n",
       "4  1541  New Promotion  1513.563200"
      ]
     },
     "execution_count": 33,
     "metadata": {},
     "output_type": "execute_result"
    }
   ],
   "source": [
    "credit.head()"
   ]
  },
  {
   "cell_type": "code",
   "execution_count": 36,
   "metadata": {},
   "outputs": [
    {
     "name": "stdout",
     "output_type": "stream",
     "text": [
      "<class 'pandas.core.frame.DataFrame'>\n",
      "RangeIndex: 500 entries, 0 to 499\n",
      "Data columns (total 3 columns):\n",
      "id         500 non-null int64\n",
      "insert     500 non-null object\n",
      "dollars    500 non-null float64\n",
      "dtypes: float64(1), int64(1), object(1)\n",
      "memory usage: 11.8+ KB\n"
     ]
    }
   ],
   "source": [
    "credit.info()"
   ]
  },
  {
   "cell_type": "code",
   "execution_count": 40,
   "metadata": {},
   "outputs": [],
   "source": [
    "standard = credit.dollars[credit['insert'] == 'Standard']\n"
   ]
  },
  {
   "cell_type": "code",
   "execution_count": 41,
   "metadata": {},
   "outputs": [],
   "source": [
    "promo = credit.dollars[credit['insert'] == 'New Promotion']"
   ]
  },
  {
   "cell_type": "code",
   "execution_count": 42,
   "metadata": {},
   "outputs": [
    {
     "name": "stdout",
     "output_type": "stream",
     "text": [
      "0    2232.771979\n",
      "2    2327.092181\n",
      "3    1280.030541\n",
      "7    1476.624884\n",
      "8    1460.769753\n",
      "Name: dollars, dtype: float64\n",
      "1    1403.807542\n",
      "4    1513.563200\n",
      "5    1729.627996\n",
      "6    1609.705918\n",
      "9    1854.489028\n",
      "Name: dollars, dtype: float64\n"
     ]
    }
   ],
   "source": [
    "print standard.head()\n",
    "print promo.head()"
   ]
  },
  {
   "cell_type": "code",
   "execution_count": 45,
   "metadata": {},
   "outputs": [
    {
     "name": "stdout",
     "output_type": "stream",
     "text": [
      "1566.38903097\n",
      "1637.49998306\n"
     ]
    }
   ],
   "source": [
    "print standard.mean()\n",
    "print promo.mean()"
   ]
  },
  {
   "cell_type": "code",
   "execution_count": 46,
   "metadata": {},
   "outputs": [
    {
     "name": "stdout",
     "output_type": "stream",
     "text": [
      "346.673047074\n",
      "356.703168688\n"
     ]
    }
   ],
   "source": [
    "print standard.std()\n",
    "print promo.std()"
   ]
  },
  {
   "cell_type": "code",
   "execution_count": 47,
   "metadata": {},
   "outputs": [
    {
     "data": {
      "text/plain": [
       "Ttest_indResult(statistic=-2.260422726464996, pvalue=0.024226348191648994)"
      ]
     },
     "execution_count": 47,
     "metadata": {},
     "output_type": "execute_result"
    }
   ],
   "source": [
    "stats.ttest_ind(a =standard,\n",
    "               b = promo, \n",
    "               equal_var = False)"
   ]
  },
  {
   "cell_type": "markdown",
   "metadata": {},
   "source": [
    "### The promotion is effective to increase sales with 90% confidence with mean of promotion > mean of standard ad"
   ]
  },
  {
   "cell_type": "code",
   "execution_count": null,
   "metadata": {},
   "outputs": [],
   "source": []
  },
  {
   "cell_type": "markdown",
   "metadata": {},
   "source": [
    "## 3. An experiment is conducted to study the hybrid seed production of bottle gourd under open field conditions. The main aim of the investigation is to compare natural pollination and hand pollination. The data are collected on 10 randomly selected plants from each of natural pollination and hand pollination. The data are collected on fruit weight (kg), seed yield/plant (g) and seedling length (cm). (Data set: pollination.csv)\n",
    "\n",
    "a. Is the overall population of Seed yield/plant (g) equals to 200?\n",
    "\n",
    "b. Test whether the natural pollination and hand pollination under open field conditions are equally effective or are significantly different."
   ]
  },
  {
   "cell_type": "code",
   "execution_count": 79,
   "metadata": {},
   "outputs": [],
   "source": [
    "pollination = pd.read_csv(\"pollination.csv\")"
   ]
  },
  {
   "cell_type": "code",
   "execution_count": 80,
   "metadata": {},
   "outputs": [
    {
     "data": {
      "text/html": [
       "<div>\n",
       "<style scoped>\n",
       "    .dataframe tbody tr th:only-of-type {\n",
       "        vertical-align: middle;\n",
       "    }\n",
       "\n",
       "    .dataframe tbody tr th {\n",
       "        vertical-align: top;\n",
       "    }\n",
       "\n",
       "    .dataframe thead th {\n",
       "        text-align: right;\n",
       "    }\n",
       "</style>\n",
       "<table border=\"1\" class=\"dataframe\">\n",
       "  <thead>\n",
       "    <tr style=\"text-align: right;\">\n",
       "      <th></th>\n",
       "      <th>Group</th>\n",
       "      <th>Fruit_Wt</th>\n",
       "      <th>Seed_Yield_Plant</th>\n",
       "      <th>Seedling_length</th>\n",
       "    </tr>\n",
       "  </thead>\n",
       "  <tbody>\n",
       "    <tr>\n",
       "      <th>0</th>\n",
       "      <td>Natural</td>\n",
       "      <td>1.85</td>\n",
       "      <td>147.70</td>\n",
       "      <td>16.86</td>\n",
       "    </tr>\n",
       "    <tr>\n",
       "      <th>1</th>\n",
       "      <td>Natural</td>\n",
       "      <td>1.86</td>\n",
       "      <td>136.86</td>\n",
       "      <td>16.77</td>\n",
       "    </tr>\n",
       "    <tr>\n",
       "      <th>2</th>\n",
       "      <td>Natural</td>\n",
       "      <td>1.83</td>\n",
       "      <td>149.97</td>\n",
       "      <td>16.35</td>\n",
       "    </tr>\n",
       "    <tr>\n",
       "      <th>3</th>\n",
       "      <td>Natural</td>\n",
       "      <td>1.89</td>\n",
       "      <td>172.33</td>\n",
       "      <td>18.26</td>\n",
       "    </tr>\n",
       "    <tr>\n",
       "      <th>4</th>\n",
       "      <td>Natural</td>\n",
       "      <td>1.80</td>\n",
       "      <td>144.46</td>\n",
       "      <td>17.90</td>\n",
       "    </tr>\n",
       "  </tbody>\n",
       "</table>\n",
       "</div>"
      ],
      "text/plain": [
       "     Group  Fruit_Wt  Seed_Yield_Plant  Seedling_length\n",
       "0  Natural      1.85            147.70            16.86\n",
       "1  Natural      1.86            136.86            16.77\n",
       "2  Natural      1.83            149.97            16.35\n",
       "3  Natural      1.89            172.33            18.26\n",
       "4  Natural      1.80            144.46            17.90"
      ]
     },
     "execution_count": 80,
     "metadata": {},
     "output_type": "execute_result"
    }
   ],
   "source": [
    "pollination.head()"
   ]
  },
  {
   "cell_type": "code",
   "execution_count": 82,
   "metadata": {},
   "outputs": [
    {
     "name": "stdout",
     "output_type": "stream",
     "text": [
      "180.8035\n",
      "37.3110111128\n"
     ]
    }
   ],
   "source": [
    "print pollination.Seed_Yield_Plant.mean()\n",
    "print pollination.Seed_Yield_Plant.std()"
   ]
  },
  {
   "cell_type": "code",
   "execution_count": 83,
   "metadata": {},
   "outputs": [
    {
     "data": {
      "text/plain": [
       "Ttest_1sampResult(statistic=-2.3009121248548645, pvalue=0.032891040921283025)"
      ]
     },
     "execution_count": 83,
     "metadata": {},
     "output_type": "execute_result"
    }
   ],
   "source": [
    "stats.ttest_1samp(pollination.Seed_Yield_Plant,\n",
    "           popmean= 200)"
   ]
  },
  {
   "cell_type": "markdown",
   "metadata": {},
   "source": [
    "### with 90% confidence the overall population of Seed yield/plant (g) < 200"
   ]
  },
  {
   "cell_type": "markdown",
   "metadata": {},
   "source": [
    "## 4. An electronics firm is developing a new DVD player in response to customer requests. Using a prototype, the marketing team has collected focus data for different age groups viz. Under 25; 25-34; 35-44; 45-54; 55-64; 65 and above. Do you think that consumers of various ages rated the design differently? (Data set: dvdplayer.csv)."
   ]
  },
  {
   "cell_type": "code",
   "execution_count": 54,
   "metadata": {},
   "outputs": [],
   "source": [
    "dvd = pd.read_csv(\"dvdplayer.csv\")"
   ]
  },
  {
   "cell_type": "code",
   "execution_count": 61,
   "metadata": {},
   "outputs": [
    {
     "data": {
      "text/html": [
       "<div>\n",
       "<style scoped>\n",
       "    .dataframe tbody tr th:only-of-type {\n",
       "        vertical-align: middle;\n",
       "    }\n",
       "\n",
       "    .dataframe tbody tr th {\n",
       "        vertical-align: top;\n",
       "    }\n",
       "\n",
       "    .dataframe thead th {\n",
       "        text-align: right;\n",
       "    }\n",
       "</style>\n",
       "<table border=\"1\" class=\"dataframe\">\n",
       "  <thead>\n",
       "    <tr style=\"text-align: right;\">\n",
       "      <th></th>\n",
       "      <th>agegroup</th>\n",
       "      <th>dvdscore</th>\n",
       "    </tr>\n",
       "  </thead>\n",
       "  <tbody>\n",
       "    <tr>\n",
       "      <th>0</th>\n",
       "      <td>65 and over</td>\n",
       "      <td>38.454803</td>\n",
       "    </tr>\n",
       "    <tr>\n",
       "      <th>1</th>\n",
       "      <td>55-64</td>\n",
       "      <td>17.669677</td>\n",
       "    </tr>\n",
       "    <tr>\n",
       "      <th>2</th>\n",
       "      <td>65 and over</td>\n",
       "      <td>31.704307</td>\n",
       "    </tr>\n",
       "    <tr>\n",
       "      <th>3</th>\n",
       "      <td>65 and over</td>\n",
       "      <td>25.924460</td>\n",
       "    </tr>\n",
       "    <tr>\n",
       "      <th>4</th>\n",
       "      <td>Under 25</td>\n",
       "      <td>30.450007</td>\n",
       "    </tr>\n",
       "  </tbody>\n",
       "</table>\n",
       "</div>"
      ],
      "text/plain": [
       "      agegroup   dvdscore\n",
       "0  65 and over  38.454803\n",
       "1        55-64  17.669677\n",
       "2  65 and over  31.704307\n",
       "3  65 and over  25.924460\n",
       "4     Under 25  30.450007"
      ]
     },
     "execution_count": 61,
     "metadata": {},
     "output_type": "execute_result"
    }
   ],
   "source": [
    "dvd.head()"
   ]
  },
  {
   "cell_type": "code",
   "execution_count": 60,
   "metadata": {},
   "outputs": [
    {
     "data": {
      "text/plain": [
       "65 and over    17\n",
       "Under 25       13\n",
       "35-44          12\n",
       "45-54          10\n",
       "25-34          10\n",
       "55-64           6\n",
       "Name: agegroup, dtype: int64"
      ]
     },
     "execution_count": 60,
     "metadata": {},
     "output_type": "execute_result"
    }
   ],
   "source": [
    "dvd['agegroup'].value_counts()"
   ]
  },
  {
   "cell_type": "code",
   "execution_count": 63,
   "metadata": {},
   "outputs": [],
   "source": [
    "g1 = dvd.dvdscore[dvd['agegroup']=='Under 25']\n",
    "g2 = dvd.dvdscore[dvd['agegroup']=='25-34']\n",
    "g3 = dvd.dvdscore[dvd['agegroup']=='35-44']\n",
    "g4 = dvd.dvdscore[dvd['agegroup']=='45-54']\n",
    "g5 = dvd.dvdscore[dvd['agegroup']=='55-64']\n",
    "g6 = dvd.dvdscore[dvd['agegroup']=='65 and over']"
   ]
  },
  {
   "cell_type": "code",
   "execution_count": 64,
   "metadata": {},
   "outputs": [
    {
     "data": {
      "text/plain": [
       "F_onewayResult(statistic=6.992526962676518, pvalue=3.087324905679639e-05)"
      ]
     },
     "execution_count": 64,
     "metadata": {},
     "output_type": "execute_result"
    }
   ],
   "source": [
    "stats.f_oneway(g1,g2,g3,g4,g5,g6)"
   ]
  },
  {
   "cell_type": "code",
   "execution_count": 66,
   "metadata": {},
   "outputs": [
    {
     "name": "stdout",
     "output_type": "stream",
     "text": [
      "31.9507635494\n",
      "7.31999223969\n"
     ]
    }
   ],
   "source": [
    "print dvd.dvdscore.mean()\n",
    "print dvd.dvdscore.std()"
   ]
  },
  {
   "cell_type": "code",
   "execution_count": 65,
   "metadata": {},
   "outputs": [
    {
     "name": "stdout",
     "output_type": "stream",
     "text": [
      "28.7492284256\n",
      "31.6780099423\n",
      "37.018058228\n",
      "39.1183687319\n",
      "28.4473356921\n",
      "28.0027913055\n"
     ]
    }
   ],
   "source": [
    "print g1.mean(); print g2.mean(); print g3.mean(); print g4.mean(); print g5.mean(); print g6.mean()"
   ]
  },
  {
   "cell_type": "markdown",
   "metadata": {},
   "source": [
    "### The consumers of different ages have rated the design differently with 98% confidence, age group '45-54' has rated highest and and under 25 has rated lowest "
   ]
  },
  {
   "cell_type": "markdown",
   "metadata": {},
   "source": [
    "## 5. A survey was conducted among 2800 customers on several demographic characteristics. Working status, sex, age, age-group, race, happiness, no. of child, marital status, educational qualifications, income group etc. had been captured for that purpose. (Data set: sample_survey.csv).\n",
    "\n",
    "a. Is there any relationship in between labour force status with marital status?\n",
    "\n",
    "b. Do you think educational qualification is somehow controlling the marital status?\n",
    "\n",
    "c. Is happiness is driven by earnings or marital status?"
   ]
  },
  {
   "cell_type": "code",
   "execution_count": 68,
   "metadata": {},
   "outputs": [],
   "source": [
    "survery = pd.read_csv(\"sample_survey.csv\")"
   ]
  },
  {
   "cell_type": "code",
   "execution_count": 69,
   "metadata": {},
   "outputs": [
    {
     "data": {
      "text/html": [
       "<div>\n",
       "<style scoped>\n",
       "    .dataframe tbody tr th:only-of-type {\n",
       "        vertical-align: middle;\n",
       "    }\n",
       "\n",
       "    .dataframe tbody tr th {\n",
       "        vertical-align: top;\n",
       "    }\n",
       "\n",
       "    .dataframe thead th {\n",
       "        text-align: right;\n",
       "    }\n",
       "</style>\n",
       "<table border=\"1\" class=\"dataframe\">\n",
       "  <thead>\n",
       "    <tr style=\"text-align: right;\">\n",
       "      <th>marital</th>\n",
       "      <th>Divorced</th>\n",
       "      <th>Married</th>\n",
       "      <th>Never married</th>\n",
       "      <th>Separated</th>\n",
       "      <th>Widowed</th>\n",
       "      <th>All</th>\n",
       "    </tr>\n",
       "    <tr>\n",
       "      <th>wrkstat</th>\n",
       "      <th></th>\n",
       "      <th></th>\n",
       "      <th></th>\n",
       "      <th></th>\n",
       "      <th></th>\n",
       "      <th></th>\n",
       "    </tr>\n",
       "  </thead>\n",
       "  <tbody>\n",
       "    <tr>\n",
       "      <th>Keeping house</th>\n",
       "      <td>25</td>\n",
       "      <td>200</td>\n",
       "      <td>35</td>\n",
       "      <td>13</td>\n",
       "      <td>55</td>\n",
       "      <td>328</td>\n",
       "    </tr>\n",
       "    <tr>\n",
       "      <th>Other</th>\n",
       "      <td>12</td>\n",
       "      <td>16</td>\n",
       "      <td>14</td>\n",
       "      <td>4</td>\n",
       "      <td>8</td>\n",
       "      <td>54</td>\n",
       "    </tr>\n",
       "    <tr>\n",
       "      <th>Retired</th>\n",
       "      <td>53</td>\n",
       "      <td>168</td>\n",
       "      <td>17</td>\n",
       "      <td>6</td>\n",
       "      <td>150</td>\n",
       "      <td>394</td>\n",
       "    </tr>\n",
       "    <tr>\n",
       "      <th>School</th>\n",
       "      <td>7</td>\n",
       "      <td>9</td>\n",
       "      <td>60</td>\n",
       "      <td>2</td>\n",
       "      <td>1</td>\n",
       "      <td>79</td>\n",
       "    </tr>\n",
       "    <tr>\n",
       "      <th>Temporarily not working</th>\n",
       "      <td>9</td>\n",
       "      <td>23</td>\n",
       "      <td>11</td>\n",
       "      <td>1</td>\n",
       "      <td>2</td>\n",
       "      <td>46</td>\n",
       "    </tr>\n",
       "    <tr>\n",
       "      <th>Unemployed, laid off</th>\n",
       "      <td>10</td>\n",
       "      <td>13</td>\n",
       "      <td>32</td>\n",
       "      <td>0</td>\n",
       "      <td>3</td>\n",
       "      <td>58</td>\n",
       "    </tr>\n",
       "    <tr>\n",
       "      <th>Working full time</th>\n",
       "      <td>295</td>\n",
       "      <td>778</td>\n",
       "      <td>392</td>\n",
       "      <td>58</td>\n",
       "      <td>44</td>\n",
       "      <td>1567</td>\n",
       "    </tr>\n",
       "    <tr>\n",
       "      <th>Working part-time</th>\n",
       "      <td>35</td>\n",
       "      <td>138</td>\n",
       "      <td>102</td>\n",
       "      <td>9</td>\n",
       "      <td>20</td>\n",
       "      <td>304</td>\n",
       "    </tr>\n",
       "    <tr>\n",
       "      <th>All</th>\n",
       "      <td>446</td>\n",
       "      <td>1345</td>\n",
       "      <td>663</td>\n",
       "      <td>93</td>\n",
       "      <td>283</td>\n",
       "      <td>2830</td>\n",
       "    </tr>\n",
       "  </tbody>\n",
       "</table>\n",
       "</div>"
      ],
      "text/plain": [
       "marital                  Divorced  Married  Never married  Separated  Widowed  \\\n",
       "wrkstat                                                                         \n",
       "Keeping house                  25      200             35         13       55   \n",
       "Other                          12       16             14          4        8   \n",
       "Retired                        53      168             17          6      150   \n",
       "School                          7        9             60          2        1   \n",
       "Temporarily not working         9       23             11          1        2   \n",
       "Unemployed, laid off           10       13             32          0        3   \n",
       "Working full time             295      778            392         58       44   \n",
       "Working part-time              35      138            102          9       20   \n",
       "All                           446     1345            663         93      283   \n",
       "\n",
       "marital                   All  \n",
       "wrkstat                        \n",
       "Keeping house             328  \n",
       "Other                      54  \n",
       "Retired                   394  \n",
       "School                     79  \n",
       "Temporarily not working    46  \n",
       "Unemployed, laid off       58  \n",
       "Working full time        1567  \n",
       "Working part-time         304  \n",
       "All                      2830  "
      ]
     },
     "execution_count": 69,
     "metadata": {},
     "output_type": "execute_result"
    }
   ],
   "source": [
    "t=pd.crosstab(survery.wrkstat, survery.marital, margins = True)\n",
    "t"
   ]
  },
  {
   "cell_type": "code",
   "execution_count": 70,
   "metadata": {},
   "outputs": [
    {
     "data": {
      "text/plain": [
       "(729.2421426572284,\n",
       " 1.820339965538765e-127,\n",
       " 40L,\n",
       " array([[5.16918728e+01, 1.55886926e+02, 7.68424028e+01, 1.07787986e+01,\n",
       "         3.28000000e+01, 3.28000000e+02],\n",
       "        [8.51024735e+00, 2.56643110e+01, 1.26508834e+01, 1.77455830e+00,\n",
       "         5.40000000e+00, 5.40000000e+01],\n",
       "        [6.20932862e+01, 1.87254417e+02, 9.23045936e+01, 1.29477032e+01,\n",
       "         3.94000000e+01, 3.94000000e+02],\n",
       "        [1.24501767e+01, 3.75459364e+01, 1.85077739e+01, 2.59611307e+00,\n",
       "         7.90000000e+00, 7.90000000e+01],\n",
       "        [7.24946996e+00, 2.18621908e+01, 1.07766784e+01, 1.51166078e+00,\n",
       "         4.60000000e+00, 4.60000000e+01],\n",
       "        [9.14063604e+00, 2.75653710e+01, 1.35879859e+01, 1.90600707e+00,\n",
       "         5.80000000e+00, 5.80000000e+01],\n",
       "        [2.46954770e+02, 7.44740283e+02, 3.67109894e+02, 5.14950530e+01,\n",
       "         1.56700000e+02, 1.56700000e+03],\n",
       "        [4.79095406e+01, 1.44480565e+02, 7.12197880e+01, 9.99010601e+00,\n",
       "         3.04000000e+01, 3.04000000e+02],\n",
       "        [4.46000000e+02, 1.34500000e+03, 6.63000000e+02, 9.30000000e+01,\n",
       "         2.83000000e+02, 2.83000000e+03]]))"
      ]
     },
     "execution_count": 70,
     "metadata": {},
     "output_type": "execute_result"
    }
   ],
   "source": [
    "stats.chi2_contingency(observed= t)"
   ]
  },
  {
   "cell_type": "code",
   "execution_count": 71,
   "metadata": {},
   "outputs": [
    {
     "data": {
      "text/html": [
       "<div>\n",
       "<style scoped>\n",
       "    .dataframe tbody tr th:only-of-type {\n",
       "        vertical-align: middle;\n",
       "    }\n",
       "\n",
       "    .dataframe tbody tr th {\n",
       "        vertical-align: top;\n",
       "    }\n",
       "\n",
       "    .dataframe thead th {\n",
       "        text-align: right;\n",
       "    }\n",
       "</style>\n",
       "<table border=\"1\" class=\"dataframe\">\n",
       "  <thead>\n",
       "    <tr style=\"text-align: right;\">\n",
       "      <th>marital</th>\n",
       "      <th>Divorced</th>\n",
       "      <th>Married</th>\n",
       "      <th>Never married</th>\n",
       "      <th>Separated</th>\n",
       "      <th>Widowed</th>\n",
       "      <th>All</th>\n",
       "    </tr>\n",
       "    <tr>\n",
       "      <th>degree</th>\n",
       "      <th></th>\n",
       "      <th></th>\n",
       "      <th></th>\n",
       "      <th></th>\n",
       "      <th></th>\n",
       "      <th></th>\n",
       "    </tr>\n",
       "  </thead>\n",
       "  <tbody>\n",
       "    <tr>\n",
       "      <th>Bachelor</th>\n",
       "      <td>58</td>\n",
       "      <td>251</td>\n",
       "      <td>129</td>\n",
       "      <td>12</td>\n",
       "      <td>28</td>\n",
       "      <td>478</td>\n",
       "    </tr>\n",
       "    <tr>\n",
       "      <th>Graduate</th>\n",
       "      <td>29</td>\n",
       "      <td>123</td>\n",
       "      <td>41</td>\n",
       "      <td>3</td>\n",
       "      <td>9</td>\n",
       "      <td>205</td>\n",
       "    </tr>\n",
       "    <tr>\n",
       "      <th>High school</th>\n",
       "      <td>241</td>\n",
       "      <td>686</td>\n",
       "      <td>367</td>\n",
       "      <td>58</td>\n",
       "      <td>148</td>\n",
       "      <td>1500</td>\n",
       "    </tr>\n",
       "    <tr>\n",
       "      <th>Junior college</th>\n",
       "      <td>45</td>\n",
       "      <td>108</td>\n",
       "      <td>46</td>\n",
       "      <td>3</td>\n",
       "      <td>6</td>\n",
       "      <td>208</td>\n",
       "    </tr>\n",
       "    <tr>\n",
       "      <th>LT High school</th>\n",
       "      <td>70</td>\n",
       "      <td>174</td>\n",
       "      <td>77</td>\n",
       "      <td>17</td>\n",
       "      <td>92</td>\n",
       "      <td>430</td>\n",
       "    </tr>\n",
       "    <tr>\n",
       "      <th>All</th>\n",
       "      <td>443</td>\n",
       "      <td>1342</td>\n",
       "      <td>660</td>\n",
       "      <td>93</td>\n",
       "      <td>283</td>\n",
       "      <td>2821</td>\n",
       "    </tr>\n",
       "  </tbody>\n",
       "</table>\n",
       "</div>"
      ],
      "text/plain": [
       "marital         Divorced  Married  Never married  Separated  Widowed   All\n",
       "degree                                                                    \n",
       "Bachelor              58      251            129         12       28   478\n",
       "Graduate              29      123             41          3        9   205\n",
       "High school          241      686            367         58      148  1500\n",
       "Junior college        45      108             46          3        6   208\n",
       "LT High school        70      174             77         17       92   430\n",
       "All                  443     1342            660         93      283  2821"
      ]
     },
     "execution_count": 71,
     "metadata": {},
     "output_type": "execute_result"
    }
   ],
   "source": [
    "u =pd.crosstab(survery.degree, survery.marital, margins = True)\n",
    "u"
   ]
  },
  {
   "cell_type": "code",
   "execution_count": 74,
   "metadata": {},
   "outputs": [
    {
     "data": {
      "text/plain": [
       "(122.68449020508541,\n",
       " 7.424404099753273e-15,\n",
       " 25L,\n",
       " array([[  75.06345268,  227.39312301,  111.83268345,   15.75824176,\n",
       "           47.95249911,  478.        ],\n",
       "        [  32.19248493,   97.52215526,   47.9617157 ,    6.75824176,\n",
       "           20.56540234,  205.        ],\n",
       "        [ 235.55476781,  713.57674583,  350.9393832 ,   49.45054945,\n",
       "          150.4785537 , 1500.        ],\n",
       "        [  32.66359447,   98.94930876,   48.66359447,    6.85714286,\n",
       "           20.86635945,  208.        ],\n",
       "        [  67.52570011,  204.55866714,  100.60262318,   14.17582418,\n",
       "           43.1371854 ,  430.        ],\n",
       "        [ 443.        , 1342.        ,  660.        ,   93.        ,\n",
       "          283.        , 2821.        ]]))"
      ]
     },
     "execution_count": 74,
     "metadata": {},
     "output_type": "execute_result"
    }
   ],
   "source": [
    "stats.chi2_contingency(observed= u)"
   ]
  },
  {
   "cell_type": "code",
   "execution_count": 75,
   "metadata": {},
   "outputs": [
    {
     "data": {
      "text/html": [
       "<div>\n",
       "<style scoped>\n",
       "    .dataframe tbody tr th:only-of-type {\n",
       "        vertical-align: middle;\n",
       "    }\n",
       "\n",
       "    .dataframe tbody tr th {\n",
       "        vertical-align: top;\n",
       "    }\n",
       "\n",
       "    .dataframe thead th {\n",
       "        text-align: right;\n",
       "    }\n",
       "</style>\n",
       "<table border=\"1\" class=\"dataframe\">\n",
       "  <thead>\n",
       "    <tr style=\"text-align: right;\">\n",
       "      <th>marital</th>\n",
       "      <th>Divorced</th>\n",
       "      <th>Married</th>\n",
       "      <th>Never married</th>\n",
       "      <th>Separated</th>\n",
       "      <th>Widowed</th>\n",
       "      <th>All</th>\n",
       "    </tr>\n",
       "    <tr>\n",
       "      <th>happy</th>\n",
       "      <th></th>\n",
       "      <th></th>\n",
       "      <th></th>\n",
       "      <th></th>\n",
       "      <th></th>\n",
       "      <th></th>\n",
       "    </tr>\n",
       "  </thead>\n",
       "  <tbody>\n",
       "    <tr>\n",
       "      <th>Not too happy</th>\n",
       "      <td>72</td>\n",
       "      <td>71</td>\n",
       "      <td>108</td>\n",
       "      <td>30</td>\n",
       "      <td>59</td>\n",
       "      <td>340</td>\n",
       "    </tr>\n",
       "    <tr>\n",
       "      <th>Pretty happy</th>\n",
       "      <td>278</td>\n",
       "      <td>684</td>\n",
       "      <td>426</td>\n",
       "      <td>49</td>\n",
       "      <td>137</td>\n",
       "      <td>1574</td>\n",
       "    </tr>\n",
       "    <tr>\n",
       "      <th>Very happy</th>\n",
       "      <td>93</td>\n",
       "      <td>582</td>\n",
       "      <td>120</td>\n",
       "      <td>13</td>\n",
       "      <td>83</td>\n",
       "      <td>891</td>\n",
       "    </tr>\n",
       "    <tr>\n",
       "      <th>All</th>\n",
       "      <td>443</td>\n",
       "      <td>1337</td>\n",
       "      <td>654</td>\n",
       "      <td>92</td>\n",
       "      <td>279</td>\n",
       "      <td>2805</td>\n",
       "    </tr>\n",
       "  </tbody>\n",
       "</table>\n",
       "</div>"
      ],
      "text/plain": [
       "marital        Divorced  Married  Never married  Separated  Widowed   All\n",
       "happy                                                                    \n",
       "Not too happy        72       71            108         30       59   340\n",
       "Pretty happy        278      684            426         49      137  1574\n",
       "Very happy           93      582            120         13       83   891\n",
       "All                 443     1337            654         92      279  2805"
      ]
     },
     "execution_count": 75,
     "metadata": {},
     "output_type": "execute_result"
    }
   ],
   "source": [
    "v =pd.crosstab(survery.happy, survery.marital, margins = True)\n",
    "v"
   ]
  },
  {
   "cell_type": "code",
   "execution_count": 76,
   "metadata": {},
   "outputs": [
    {
     "data": {
      "text/plain": [
       "(260.68943894182826,\n",
       " 7.762777322980048e-47,\n",
       " 15L,\n",
       " array([[  53.6969697 ,  162.06060606,   79.27272727,   11.15151515,\n",
       "           33.81818182,  340.        ],\n",
       "        [ 248.58538324,  750.24527629,  366.98609626,   51.62495544,\n",
       "          156.55828877, 1574.        ],\n",
       "        [ 140.71764706,  424.69411765,  207.74117647,   29.22352941,\n",
       "           88.62352941,  891.        ],\n",
       "        [ 443.        , 1337.        ,  654.        ,   92.        ,\n",
       "          279.        , 2805.        ]]))"
      ]
     },
     "execution_count": 76,
     "metadata": {},
     "output_type": "execute_result"
    }
   ],
   "source": [
    "stats.chi2_contingency(observed= v)"
   ]
  },
  {
   "cell_type": "code",
   "execution_count": 77,
   "metadata": {},
   "outputs": [
    {
     "data": {
      "text/html": [
       "<div>\n",
       "<style scoped>\n",
       "    .dataframe tbody tr th:only-of-type {\n",
       "        vertical-align: middle;\n",
       "    }\n",
       "\n",
       "    .dataframe tbody tr th {\n",
       "        vertical-align: top;\n",
       "    }\n",
       "\n",
       "    .dataframe thead th {\n",
       "        text-align: right;\n",
       "    }\n",
       "</style>\n",
       "<table border=\"1\" class=\"dataframe\">\n",
       "  <thead>\n",
       "    <tr style=\"text-align: right;\">\n",
       "      <th>income</th>\n",
       "      <th>$1000 TO 2999</th>\n",
       "      <th>$10000 - 14999</th>\n",
       "      <th>$15000 - 19999</th>\n",
       "      <th>$20000 - 24999</th>\n",
       "      <th>$25000 or more</th>\n",
       "      <th>$3000 TO 3999</th>\n",
       "      <th>$4000 TO 4999</th>\n",
       "      <th>$5000 TO 5999</th>\n",
       "      <th>$6000 TO 6999</th>\n",
       "      <th>$7000 TO 7999</th>\n",
       "      <th>$8000 TO 9999</th>\n",
       "      <th>LT $1000</th>\n",
       "      <th>All</th>\n",
       "    </tr>\n",
       "    <tr>\n",
       "      <th>happy</th>\n",
       "      <th></th>\n",
       "      <th></th>\n",
       "      <th></th>\n",
       "      <th></th>\n",
       "      <th></th>\n",
       "      <th></th>\n",
       "      <th></th>\n",
       "      <th></th>\n",
       "      <th></th>\n",
       "      <th></th>\n",
       "      <th></th>\n",
       "      <th></th>\n",
       "      <th></th>\n",
       "    </tr>\n",
       "  </thead>\n",
       "  <tbody>\n",
       "    <tr>\n",
       "      <th>Not too happy</th>\n",
       "      <td>7</td>\n",
       "      <td>39</td>\n",
       "      <td>33</td>\n",
       "      <td>40</td>\n",
       "      <td>113</td>\n",
       "      <td>9</td>\n",
       "      <td>9</td>\n",
       "      <td>6</td>\n",
       "      <td>14</td>\n",
       "      <td>12</td>\n",
       "      <td>9</td>\n",
       "      <td>11</td>\n",
       "      <td>302</td>\n",
       "    </tr>\n",
       "    <tr>\n",
       "      <th>Pretty happy</th>\n",
       "      <td>20</td>\n",
       "      <td>107</td>\n",
       "      <td>119</td>\n",
       "      <td>155</td>\n",
       "      <td>888</td>\n",
       "      <td>11</td>\n",
       "      <td>13</td>\n",
       "      <td>18</td>\n",
       "      <td>13</td>\n",
       "      <td>21</td>\n",
       "      <td>30</td>\n",
       "      <td>13</td>\n",
       "      <td>1408</td>\n",
       "    </tr>\n",
       "    <tr>\n",
       "      <th>Very happy</th>\n",
       "      <td>5</td>\n",
       "      <td>44</td>\n",
       "      <td>26</td>\n",
       "      <td>50</td>\n",
       "      <td>571</td>\n",
       "      <td>4</td>\n",
       "      <td>10</td>\n",
       "      <td>11</td>\n",
       "      <td>6</td>\n",
       "      <td>14</td>\n",
       "      <td>19</td>\n",
       "      <td>11</td>\n",
       "      <td>771</td>\n",
       "    </tr>\n",
       "    <tr>\n",
       "      <th>All</th>\n",
       "      <td>32</td>\n",
       "      <td>190</td>\n",
       "      <td>178</td>\n",
       "      <td>245</td>\n",
       "      <td>1572</td>\n",
       "      <td>24</td>\n",
       "      <td>32</td>\n",
       "      <td>35</td>\n",
       "      <td>33</td>\n",
       "      <td>47</td>\n",
       "      <td>58</td>\n",
       "      <td>35</td>\n",
       "      <td>2481</td>\n",
       "    </tr>\n",
       "  </tbody>\n",
       "</table>\n",
       "</div>"
      ],
      "text/plain": [
       "income         $1000 TO 2999  $10000 - 14999  $15000 - 19999  $20000 - 24999  \\\n",
       "happy                                                                          \n",
       "Not too happy              7              39              33              40   \n",
       "Pretty happy              20             107             119             155   \n",
       "Very happy                 5              44              26              50   \n",
       "All                       32             190             178             245   \n",
       "\n",
       "income         $25000 or more  $3000 TO 3999  $4000 TO 4999  $5000 TO 5999  \\\n",
       "happy                                                                        \n",
       "Not too happy             113              9              9              6   \n",
       "Pretty happy              888             11             13             18   \n",
       "Very happy                571              4             10             11   \n",
       "All                      1572             24             32             35   \n",
       "\n",
       "income         $6000 TO 6999  $7000 TO 7999  $8000 TO 9999  LT $1000   All  \n",
       "happy                                                                       \n",
       "Not too happy             14             12              9        11   302  \n",
       "Pretty happy              13             21             30        13  1408  \n",
       "Very happy                 6             14             19        11   771  \n",
       "All                       33             47             58        35  2481  "
      ]
     },
     "execution_count": 77,
     "metadata": {},
     "output_type": "execute_result"
    }
   ],
   "source": [
    "w =pd.crosstab(survery.happy, survery.income, margins = True)\n",
    "w"
   ]
  },
  {
   "cell_type": "code",
   "execution_count": 78,
   "metadata": {},
   "outputs": [
    {
     "data": {
      "text/plain": [
       "(178.95053061216427,\n",
       " 7.234749067043371e-21,\n",
       " 36L,\n",
       " array([[   3.89520355,   23.12777106,   21.66706973,   29.82265216,\n",
       "          191.35187424,    2.92140266,    3.89520355,    4.26037888,\n",
       "            4.01692866,    5.72108021,    7.06005643,    4.26037888,\n",
       "          302.        ],\n",
       "        [  18.16041919,  107.82748892,  101.01733172,  139.04070939,\n",
       "          892.1305925 ,   13.62031439,   18.16041919,   19.86295848,\n",
       "           18.72793229,   26.67311568,   32.91575977,   19.86295848,\n",
       "         1408.        ],\n",
       "        [   9.94437727,   59.04474002,   55.31559855,   76.13663845,\n",
       "          488.51753325,    7.45828295,    9.94437727,   10.87666264,\n",
       "           10.25513906,   14.60580411,   18.0241838 ,   10.87666264,\n",
       "          771.        ],\n",
       "        [  32.        ,  190.        ,  178.        ,  245.        ,\n",
       "         1572.        ,   24.        ,   32.        ,   35.        ,\n",
       "           33.        ,   47.        ,   58.        ,   35.        ,\n",
       "         2481.        ]]))"
      ]
     },
     "execution_count": 78,
     "metadata": {},
     "output_type": "execute_result"
    }
   ],
   "source": [
    "stats.chi2_contingency(observed= w)"
   ]
  },
  {
   "cell_type": "code",
   "execution_count": null,
   "metadata": {},
   "outputs": [],
   "source": []
  }
 ],
 "metadata": {
  "kernelspec": {
   "display_name": "Python 2",
   "language": "python",
   "name": "python2"
  },
  "language_info": {
   "codemirror_mode": {
    "name": "ipython",
    "version": 2
   },
   "file_extension": ".py",
   "mimetype": "text/x-python",
   "name": "python",
   "nbconvert_exporter": "python",
   "pygments_lexer": "ipython2",
   "version": "2.7.15"
  }
 },
 "nbformat": 4,
 "nbformat_minor": 2
}
