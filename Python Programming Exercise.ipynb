{
 "cells": [
  {
   "cell_type": "code",
   "execution_count": null,
   "metadata": {},
   "outputs": [],
   "source": [
    "# Write a program which will find all such numbers which are divisible by 7 but are not a multiple of 5, between 2000 and 3200 (both included). The numbers obtained should be printed in a comma-separated sequence on a single line.\n",
    "# Hints: Consider use range(#begin, #end) method\n",
    "\n",
    "l=[]\n",
    "for i in range(2000,3200):\n",
    "    if (i%7==0) &(i%5!=0):\n",
    "            l.append(str(i))\n",
    "print ','.join(l) \n"
   ]
  },
  {
   "cell_type": "code",
   "execution_count": null,
   "metadata": {},
   "outputs": [],
   "source": [
    "# Write a program which can compute the factorial of a given numbers. The results should be printed in a comma-separated sequence on a single line. \n",
    "#raw_input() function can be used for getting user(console) input\n",
    "\n",
    "#Suppose the input is supplied to the program:  8  \n",
    "#Then, the output should be:  40320 \n",
    "#Hints: In case of input data being supplied to the question, it should be assumed to be a console input. \n",
    "x = int(input(\"Enter number:\"))\n",
    "\n",
    "def fact(x):\n",
    "    if x==0:\n",
    "        return 1\n",
    "    return x * fact(x-1)\n",
    "print fact(x)\n"
   ]
  },
  {
   "cell_type": "code",
   "execution_count": null,
   "metadata": {},
   "outputs": [],
   "source": [
    "# With a given integral number n, write a program to generate a dictionary that contains (i, i*i) such that is an integral number between 1 and n (both included). and then the program should print the dictionary.\n",
    "#Suppose the following input is supplied to the program: 8\n",
    "#Then, the output should be: {1: 1, 2: 4, 3: 9, 4: 16, 5: 25, 6: 36, 7: 49, 8: 64}\n",
    "#Hints: In case of input data being supplied to the question, it should be assumed to be a console input. Consider use dict()\n",
    "\n",
    "n = int(input(\"Enter number:\"))\n",
    "\n",
    "dict = {}\n",
    "\n",
    "for i in range(1,n+1):\n",
    "    dict[i] = i*i\n",
    "print dict\n",
    "    \n"
   ]
  },
  {
   "cell_type": "code",
   "execution_count": null,
   "metadata": {},
   "outputs": [],
   "source": [
    "# Write a program which accepts a sequence of comma-separated numbers from console and generate a list and a tuple which contains every number.\n",
    "#Suppose the following input is supplied to the program: 34,67,55,33,12,98\n",
    "#Then, the output should be: ['34', '67', '55', '33', '12', '98'] ('34', '67', '55', '33', '12', '98')\n",
    "\n",
    "#Hints: In case of input data being supplied to the question, it should be assumed to be a console input. tuple() method can convert list to tuple\n",
    "\n",
    "## 4- Solution 1\n",
    "i = input(\"Input some comma seprated numbers : \")\n",
    "l = list(i)\n",
    "t = i\n",
    "print l\n",
    "print t\n"
   ]
  },
  {
   "cell_type": "code",
   "execution_count": null,
   "metadata": {},
   "outputs": [],
   "source": [
    "## Solution 2\n",
    "values=raw_input(\"Input some comma seprated numbers : \")\n",
    "l=values.split(\",\")\n",
    "t=tuple(l)\n",
    "print l\n",
    "print t"
   ]
  },
  {
   "cell_type": "code",
   "execution_count": null,
   "metadata": {},
   "outputs": [],
   "source": [
    "# Define a class which has at least two methods: getString: to get a string from console input and \n",
    "#printString: to print the string in upper case. Also please include simple test function to test the class methods.\n",
    "\n",
    "#Hints: Use __init__ method to construct some parameters\n",
    "\n",
    "class iostring:\n",
    "    def _init_(self):\n",
    "        self.s=\"\"\n",
    "    def getString(self):\n",
    "        self.s=raw_input()\n",
    "    def printString(self):\n",
    "        print self.s.upper()\n",
    "\n",
    "newobj = iostring()\n",
    "newobj.getString()\n",
    "\n",
    "newobj.printString()\n"
   ]
  },
  {
   "cell_type": "code",
   "execution_count": 4,
   "metadata": {},
   "outputs": [
    {
     "name": "stdout",
     "output_type": "stream",
     "text": [
      "Enter comma seperated numbers:100,150,180\n",
      "18.2482875909\n",
      "22.360679775\n",
      "24.4948974278\n"
     ]
    }
   ],
   "source": [
    "#Write a program that calculates and prints the value according to the given formula:\n",
    "\"\"\"Q = Square root of [(2 * C * D)/H]\n",
    "Following are the fixed values of C and H: C is 50. H is 30.\n",
    "D is the variable whose values should be input to your program in a comma-separated sequence.\n",
    "Let us assume the following comma separated input sequence is given to the program: 100,150,180\n",
    "The output of the program should be: 18, 22, 24\n",
    "Hints: If the output received is in decimal form, it should be rounded off to its nearest value (for example, if the output received is 26.0, it should be printed as 26)\n",
    "In case of input data being supplied to the question, it should be assumed to be a console input.\"\"\"\n",
    "\n",
    "import math as mt\n",
    "\n",
    "var = input(\"Enter comma seperated numbers:\")\n",
    "\n",
    "C = 50\n",
    "H = 30  \n",
    "for D in list(var):\n",
    "    print mt.sqrt((2*C*D)/H)"
   ]
  },
  {
   "cell_type": "code",
   "execution_count": null,
   "metadata": {},
   "outputs": [],
   "source": [
    "#Write a program which takes 2 digits, X,Y as input and generates a 2-dimensional array. The element value in the i-th row and j-th column of the array should be i*j.\n",
    "\"\"\"Note: i=0,1.., X-1; j=0,1,¡Y-1.\n",
    "Suppose the following inputs are given to the program: 3, 5\n",
    "Then, the output of the program should be: [[0, 0, 0, 0, 0], [0, 1, 2, 3, 4], [0, 2, 4, 6, 8]]\n",
    "Hints: In case of input data being supplied to the question, it should be assumed to be a console input in a comma-separated form.\"\"\"\n",
    "\n",
    "x= int(input(\"insert row \\n: \"))\n",
    "y = int(input(\"insert col \\n: \"))\n",
    "\n",
    "def darray(r,c):\n",
    "    array =  [[i * j for j in range(c)] for i in range(r)]\n",
    "    return array\n",
    "print (darray(x,y))"
   ]
  },
  {
   "cell_type": "code",
   "execution_count": null,
   "metadata": {},
   "outputs": [],
   "source": [
    "# Write a program that accepts a comma separated sequence of words as input and prints the words in a comma-separated sequence after sorting them alphabetically.\n",
    "# Suppose the following input is supplied to the program: without,hello,bag,world\n",
    "# Then, the output should be: bag,hello,without,world\n",
    "\n",
    "#Hints: In case of input data being supplied to the question, it should be assumed to be a console input.\n",
    "\n",
    "l= raw_input(\"Enter:\")\n",
    "\n",
    "words = list(l.split(\",\"))\n",
    "words.sort()\n",
    "\n",
    "l=[]\n",
    "for word in words:\n",
    "    l.append(word)\n",
    "print ', '.join(l)\n",
    "    \n"
   ]
  },
  {
   "cell_type": "code",
   "execution_count": null,
   "metadata": {},
   "outputs": [],
   "source": [
    "# Write a program that accepts sequence of lines as input and prints the lines after making all characters in the sentence capitalized.\n",
    "\"\"\"AnalytixLabs, Website: www.analytixlabs.co.in Email: info@analytixlabs.co.in phone: +91-88021-73069\n",
    "Suppose the input is supplied to the program: Hello world\n",
    "Practice makes perfect\n",
    "Then, the output should be: HELLO WORLD\n",
    "PRACTICE MAKES PERFECT\n",
    "Hints: In case of input data being supplied to the question, it should be assumed to be a console input.\"\"\"\n",
    "\n",
    "l=[]\n",
    "\n",
    "while True:\n",
    "    s = raw_input(\"Enter a sentence:\")\n",
    "    if s:\n",
    "        l.append(s.upper())\n",
    "    else:\n",
    "        break;\n",
    "\n",
    "for sentence in l:\n",
    "    print sentence"
   ]
  },
  {
   "cell_type": "code",
   "execution_count": null,
   "metadata": {},
   "outputs": [],
   "source": [
    "# Write a program that accepts a sequence of whitespace separated words as input and prints the words after removing all duplicate words and sorting them alphanumerically.\n",
    "# Suppose the following input is supplied to the program: hello world and practice makes perfect and hello world again\n",
    "# Then, the output should be: again and hello makes perfect practice world\n",
    "\n",
    "#Hints: In case of input data being supplied to the question, it should be assumed to be a console input.\n",
    "#We use set container to remove duplicated data automatically and then use sorted() to sort the data.\n",
    "\n",
    "input_str = raw_input(\"Enter a string:\")\n",
    "words = list(set(input_str.split()))\n",
    "words.sort()\n",
    "\n",
    "l=[]\n",
    "\n",
    "for word in words:\n",
    "    l.append(word)\n",
    "print ' '.join(l)"
   ]
  },
  {
   "cell_type": "code",
   "execution_count": null,
   "metadata": {},
   "outputs": [],
   "source": [
    "# Write a program which accepts a sequence of comma separated 4 digit binary numbers as its input and then check whether they are divisible by 5 or not. The numbers that are divisible by 5 are to be printed in a comma separated sequence.\n",
    "\"\"\"Suppose the input is supplied to the program: 0100,0011,1010,1001\n",
    "Then the output should be: 1010\n",
    "Notes: Assume the data is input by console.\n",
    "Hints: In case of input data being supplied to the question, it should be assumed to be a console input.\"\"\"\n",
    "\n",
    "binary = raw_input(\"Enter binary numbers:\")\n",
    "\n",
    "listbin = var.split(\",\")\n",
    "\n",
    "for d in listbin:\n",
    "    if int(d,2) % 5 == 0:\n",
    "        print d"
   ]
  },
  {
   "cell_type": "code",
   "execution_count": null,
   "metadata": {},
   "outputs": [],
   "source": [
    "# Write a program, which will find all such numbers between 1000 and 3000 (both included) such that each digit of the number is an even number.\n",
    "\"\"\"The numbers obtained should be printed in a comma-separated sequence on a single line.\n",
    "Hints: In case of input data being supplied to the question, it should be assumed to be a console input.\"\"\"\n",
    "\n",
    "l= []\n",
    "\n",
    "for i in range(1000,3001):\n",
    "    if i % 2 ==0:\n",
    "        l.append(str(i))\n",
    "print ','.join(l)\n"
   ]
  },
  {
   "cell_type": "code",
   "execution_count": null,
   "metadata": {},
   "outputs": [],
   "source": [
    "# Write a program that accepts a sentence and calculate the number of letters and digits.\n",
    "\"\"\"Suppose the input is supplied to the program: hello world! 123\n",
    "Then, the output should be: LETTERS 10\n",
    "AnalytixLabs, Website: www.analytixlabs.co.in Email: info@analytixlabs.co.in phone: +91-88021-73069\n",
    "DIGITS 3\n",
    "Hints: In case of input data being supplied to the question, it should be assumed to be a console input.\"\"\"\n",
    "\n",
    "var = raw_input(\"Enter A Sentence:\")\n",
    "print (\"DIGITS \" + str(sum(1 for l in var if l.isdigit()))) + (\" LETTERS \" + str(sum(1 for l in var if l.isalpha())))"
   ]
  },
  {
   "cell_type": "code",
   "execution_count": null,
   "metadata": {},
   "outputs": [],
   "source": [
    "# Write a program that accepts a sentence and calculate the number of upper case letters and lower case letters.\n",
    "#Suppose the following input is supplied to the program: Hello world!\n",
    "#Then, the output should be: UPPER CASE 1 LOWER CASE 9\n",
    "\n",
    "#Hints: In case of input data being supplied to the question, it should be assumed to be a console input.\n",
    "\n",
    "l = raw_input(\"Enter a sentence:\")\n",
    "print (\"UPPER CASE \"+ str(sum(1 for word in l if word.isupper()))) + (\" LOWER CASE \"+ str(sum(1 for word in l if word.islower())))"
   ]
  },
  {
   "cell_type": "code",
   "execution_count": null,
   "metadata": {},
   "outputs": [],
   "source": [
    "# Write a program that computes the value of a+aa+aaa+aaaa with a given digit as the value of a.\n",
    "\"\"\"Suppose the input is supplied to the program: 9\n",
    "Then, the output should be: 11106\n",
    "Hints: In case of input data being supplied to the question, it should be assumed to be a console input.\"\"\"\n",
    "a = raw_input(\"Enter a digit:\")\n",
    "\n",
    "a1 = int(\"%s\" % a)\n",
    "a2 = int(\"%s%s\" % (a,a))\n",
    "a3 = int(\"%s%s%s\" % (a,a,a))\n",
    "a4 = int(\"%s%s%s%s\" % (a,a,a,a))\n",
    "\n",
    "print a1+a2+a3+a4"
   ]
  },
  {
   "cell_type": "code",
   "execution_count": null,
   "metadata": {},
   "outputs": [],
   "source": [
    "# Use a list comprehension to square each odd number in a list. The list is input by a sequence of comma-separated numbers.\n",
    "\"\"\"Suppose the input is supplied to the program: 1,2,3,4,5,6,7,8,9\n",
    "Then, the output should be: 1, 3, 5, 7, 9\n",
    "Hints: In case of input data being supplied to the question, it should be assumed to be a console input.\"\"\"\n",
    "    \n",
    "var = input(\"Enter Numbers:\")\n",
    "l= list(var)\n",
    "for n in l:\n",
    "    if n % 2 !=0:\n",
    "        a= n*n\n",
    "        print n,a"
   ]
  },
  {
   "cell_type": "code",
   "execution_count": null,
   "metadata": {},
   "outputs": [],
   "source": [
    "# Define a class with a generator which can iterate the numbers, which are divisible by 7, between a given range 0 and n.\n",
    "#Hints: Consider use yield\n",
    "\n",
    "s= int(raw_input(\"Enter a number:\"))\n",
    "\n",
    "def divi(s):\n",
    "    for i in range(0,s):\n",
    "        if i%7==0:\n",
    "            print i\n",
    "print divi(s)"
   ]
  },
  {
   "cell_type": "code",
   "execution_count": null,
   "metadata": {},
   "outputs": [],
   "source": [
    "# Write a program to compute the frequency of the words from the input. The output should output after sorting the key alphanumerically.\n",
    "\"\"\"Suppose the input is supplied to the program:\n",
    "New to Python or choosing between Python 2 and Python 3? Read Python 2 or Python 3.\n",
    "Then, the output should be:\n",
    "2:2\n",
    "3.:1\n",
    "3?:1\n",
    "New:1\n",
    "Python:5\n",
    "Read:1\n",
    "and:1\n",
    "between:1\n",
    "choosing:1\n",
    "or:2\n",
    "to:1\n",
    "Hints: In case of input data being supplied to the question, it should be assumed to be a console input.\"\"\"\n",
    "\n",
    "var = raw_input(\"Enter a sentence:\")\n",
    "\n",
    "word = var.split()\n",
    "word.sort()\n",
    "\n",
    "wordfreq = [word.count(x) for x in word]\n",
    "\n",
    "dict(zip(word,wordfreq))"
   ]
  },
  {
   "cell_type": "code",
   "execution_count": null,
   "metadata": {},
   "outputs": [],
   "source": [
    "# Write a method which can calculate square value of number\n",
    "#Hints: Using the ** operator\n",
    "\n",
    "def squa(x):\n",
    "    return x**2"
   ]
  },
  {
   "cell_type": "code",
   "execution_count": null,
   "metadata": {},
   "outputs": [],
   "source": [
    "# Python has many built-in functions, and if you do not know how to use it, you can read document online or find some books.\n",
    "#But Python has a built-in document function for every built-in functions.\n",
    "#Please write a program to print some Python built-in functions documents, such as abs(), int(), raw_input()\n",
    "#And add document for your own function\n",
    "    \n",
    "#Hints: The built-in document method is __doc__\n",
    "\n",
    "def absoluteNumber(number):\n",
    "    return abs(number)\n",
    "print absoluteNumber(int(raw_input('Enter Number :')))\n",
    "\n",
    "\n",
    "print abs.__doc__\n",
    "print int.__doc__\n",
    "print raw_input.__doc__"
   ]
  },
  {
   "cell_type": "code",
   "execution_count": null,
   "metadata": {},
   "outputs": [],
   "source": [
    "# Define a class, which have a class parameter and have a same instance parameter.\n",
    "\"\"\"Hints: Define a instance parameter, need add it in __init__ method\n",
    "You can init a object with construct parameter or set the value later\"\"\"\n",
    "\n",
    "class Person:\n",
    "    # Define the class parameter \"name\"\n",
    "    name = \"Person\"\n",
    "    \n",
    "    def __init__(self, name = None):\n",
    "        # self.name is the instance parameter\n",
    "        self.name = name\n",
    "\n",
    "jeffrey = Person(\"Jeffrey\")\n",
    "print \"%s name is %s\" % (Person.name, jeffrey.name)\n",
    "\n",
    "nico = Person()\n",
    "nico.name = \"Nico\"\n",
    "print \"%s name is %s\" % (Person.name, nico.name)"
   ]
  },
  {
   "cell_type": "code",
   "execution_count": null,
   "metadata": {},
   "outputs": [],
   "source": [
    "# Define a function which can compute the sum of two numbers.\n",
    "\"\"\"Hints: Define a function with two numbers as arguments. You can compute the sum in the function and return the value.\"\"\"\n",
    "\n",
    "def addition(x,y):\n",
    "    z = x+y\n",
    "    return z"
   ]
  },
  {
   "cell_type": "code",
   "execution_count": null,
   "metadata": {},
   "outputs": [],
   "source": [
    "# Define a function that can convert a integer into a string and print it in console.\n",
    "\"\"\"Hints: Use str() to convert a number to string.\"\"\"\n",
    "\n",
    "def inttostr(x):\n",
    "    y = str(x)\n",
    "    return y"
   ]
  },
  {
   "cell_type": "code",
   "execution_count": null,
   "metadata": {},
   "outputs": [],
   "source": [
    "# Define a function that can receive two integral numbers in string form and compute their sum and then print it in console.\n",
    "\"\"\"Hints: Use int() to convert a string to integer.\"\"\"\n",
    "\n",
    "def rec(x,y):\n",
    "    print float(x)+float(y) #not working with int()"
   ]
  },
  {
   "cell_type": "code",
   "execution_count": null,
   "metadata": {},
   "outputs": [],
   "source": [
    "# Define a function that can accept two strings as input and concatenate them and then print it in console.\n",
    "\"\"\"Hints: Use + to concatenate the strings\"\"\"\n",
    "\n",
    "def twostr(x,y):\n",
    "    z= x + y\n",
    "    return z\n",
    "    "
   ]
  },
  {
   "cell_type": "code",
   "execution_count": null,
   "metadata": {},
   "outputs": [],
   "source": [
    "# Define a function that can accept two strings as input and print the string with maximum length in console. If two strings have the same length, then the function should print al l strings line by line.\n",
    "\"\"\"Hints: Use len() function to get the length of a string\"\"\"\n",
    "    \n",
    "def length(x,y):\n",
    "    if len(x) > len(y):\n",
    "        print x\n",
    "    elif len(x) < len(y):\n",
    "        print y\n",
    "    else:\n",
    "        print x,y\n",
    "    "
   ]
  },
  {
   "cell_type": "code",
   "execution_count": null,
   "metadata": {},
   "outputs": [],
   "source": [
    "# Define a function that can accept an integer number as input and print the \"It is an even number\" if the number is even, otherwise print \"It is an odd number\".\n",
    "\"\"\"Hints: Use % operator to check if a number is even or odd.\"\"\"\n",
    "\n",
    "def eveorodd(x):\n",
    "    if x % 2==0:\n",
    "        print \"It is an even number\"\n",
    "    else:\n",
    "        print \"It is an odd number\""
   ]
  },
  {
   "cell_type": "code",
   "execution_count": null,
   "metadata": {},
   "outputs": [],
   "source": [
    "# Define a function which can print a dictionary where the keys are numbers between 1 and 3 (both included) and the values are square of keys.\n",
    "\"\"\"Hints: Use dict[key]=value pattern to put entry into a dictionary.\n",
    "AnalytixLabs, Website: www.analytixlabs.co.in Email: info@analytixlabs.co.in phone: +91-88021-73069\n",
    "Use ** operator to get power of a number.\"\"\"\n",
    "\n",
    "def dic():\n",
    "    d= {}\n",
    "    for i in range(1,4):\n",
    "        d[i]= i*i\n",
    "    print d"
   ]
  },
  {
   "cell_type": "code",
   "execution_count": null,
   "metadata": {},
   "outputs": [],
   "source": [
    "# Define a function which can print a dictionary where the keys are numbers between 1 and 20 (both included) and the values are square of keys.\n",
    "\"\"\"Hints: Use dict[key]=value pattern to put entry into a dictionary.\n",
    "Use ** operator to get power of a number. Use range() for loops.\"\"\"\n",
    "\n",
    "def dicsqua():\n",
    "    d = {}\n",
    "    for i in range(1,21):\n",
    "        d[i] = i**2\n",
    "    print d"
   ]
  },
  {
   "cell_type": "code",
   "execution_count": null,
   "metadata": {},
   "outputs": [],
   "source": [
    "# Define a function which can generate a dictionary where the keys are numbers between 1 and 20 (both included) and the values are square of keys. The function should just print the values only.\n",
    "\"\"\"Hints: Use dict[key]=value pattern to put entry into a dictionary. Use ** operator to get power of a number. Use range() for loops. Use keys() to iterate keys in the dictionary. Also we can use item() to get key/value pairs.\"\"\"\n",
    "\n",
    "def dictval():\n",
    "    d={}\n",
    "    for i in range(1,21):\n",
    "        d[i] = i **2\n",
    "    print d.values()"
   ]
  },
  {
   "cell_type": "code",
   "execution_count": null,
   "metadata": {},
   "outputs": [],
   "source": [
    "# Define a function which can generate a dictionary where the keys are numbers between 1 and 20 (both included) and the values are square of keys. The function should just print the keys only.\n",
    "\"\"\"Hints: Use dict[key]=value pattern to put entry into a dictionary. Use ** operator to get power of a number. Use range() for loops. Use keys() to iterate keys in the dictionary. Also we can use item() to get key/value pairs.\"\"\"\n",
    "\n",
    "def dictkey():\n",
    "    d={}\n",
    "    for i in range(1,21):\n",
    "        d[i] = i **2\n",
    "    print d.keys()\n",
    "\n"
   ]
  },
  {
   "cell_type": "code",
   "execution_count": null,
   "metadata": {},
   "outputs": [],
   "source": [
    "# Define a function which can generate and print a list where the values are square of numbers between 1 and 20 (both included).\n",
    "\"\"\"Hints: Use ** operator to get power of a number. Use range() for loops. Use list.append() to add values into a list.\"\"\"\n",
    "\n",
    "def squa():\n",
    "    l=[]\n",
    "    for i in range(1,21):\n",
    "        l.append(i ** 2)\n",
    "    print l\n",
    "        \n",
    "        \n",
    "    "
   ]
  },
  {
   "cell_type": "code",
   "execution_count": null,
   "metadata": {},
   "outputs": [],
   "source": [
    "# Define a function which can generate a list where the values are square of numbers between 1 and 20 (both included). Then the function needs to print the first 5 elements in the list.\n",
    "\"\"\"Hints: Use ** operator to get power of a number. Use range() for loops. Use list.append() to add values into a list. Use [n1:n2] to slice a list\"\"\"\n",
    "    \n",
    "def listfirst():\n",
    "    l= []\n",
    "    for i in range(1,21):\n",
    "        l.append(i**2)\n",
    "    print l[:5]"
   ]
  },
  {
   "cell_type": "code",
   "execution_count": null,
   "metadata": {},
   "outputs": [],
   "source": [
    "# Define a function which can generate a list where the values are square of numbers between 1 and 20 (both included). Then the function needs to print the last 5 elements in the list.\n",
    "\"\"\"Hints: Use ** operator to get power of a number. Use range() for loops. Use list.append() to add values into a list. Use [n1:n2] to slice a list\"\"\"\n",
    "\n",
    "def listlast():\n",
    "    l=[]\n",
    "    for i in range(1,21):\n",
    "        l.append(i**2)\n",
    "    print l[-5:]"
   ]
  },
  {
   "cell_type": "code",
   "execution_count": null,
   "metadata": {},
   "outputs": [],
   "source": [
    "# Define a function which can generate a list where the values are square of numbers between 1 and 20 (both included). Then the function needs to print all values except the first 5 elements in the list.\n",
    "\"\"\"Hints: Use ** operator to get power of a number. Use range() for loops. Use list.append() to add values into a list. Use [n1:n2] to slice a list\"\"\"\n",
    "\n",
    "def listsquare():\n",
    "    l=[]\n",
    "    for i in range(1,21):\n",
    "        l.append(i**2)\n",
    "    print l[5:]"
   ]
  },
  {
   "cell_type": "code",
   "execution_count": null,
   "metadata": {},
   "outputs": [],
   "source": [
    "# Define a function which can generate and print a tuple where the value are square of numbers between 1 and 20 (both included).\n",
    "\"\"\"Hints: Use ** operator to get power of a number. Use range() for loops. Use list.append() to add values into a list. Use tuple() to get a tuple from a list.\"\"\"\n",
    "\n",
    "def tuplesquare():\n",
    "    l = []\n",
    "    for i in range(1,21):\n",
    "        l.append(i**2)\n",
    "    print tuple(l)"
   ]
  },
  {
   "cell_type": "code",
   "execution_count": null,
   "metadata": {},
   "outputs": [],
   "source": [
    "# With a given tuple (1,2,3,4,5,6,7,8,9,10), write a program to print the first half values in one line and the last half values in one line.\n",
    "\"\"\"Hints: Use [n1:n2] notation to get a slice from a tuple.\"\"\"\n",
    "\n",
    "t= tuple(range(1,11))\n",
    "print t[:5]\n",
    "print t[5:]"
   ]
  },
  {
   "cell_type": "code",
   "execution_count": null,
   "metadata": {},
   "outputs": [],
   "source": [
    "# Write a program to generate and print another tuple whose values are even numbers in the given tuple (1,2,3,4,5,6,7,8,9,10).\n",
    "\"\"\"Hints: Use \"for\" to iterate the tuple. Use tuple() to generate a tuple from a list.\"\"\"\n",
    "\n",
    "t = tuple(range(1,11))\n",
    "l= []\n",
    "\n",
    "for i in t:\n",
    "    if i % 2 ==0:\n",
    "        l.append(i)\n",
    "print tuple(l)"
   ]
  },
  {
   "cell_type": "code",
   "execution_count": null,
   "metadata": {},
   "outputs": [],
   "source": [
    "# Write a program which accepts a string as input to print \"Yes\" if the string is \"yes\" or \"YES\" or \"Yes\", otherwise print \"No\".\n",
    "\"\"\"Hints: Use if statement to judge condition.\"\"\"\n",
    "\n",
    "x = raw_input(\"Enter a word:\")\n",
    "if x == \"yes\" or x ==  \"YES\" or x == \"Yes\":\n",
    "    print \"Yes\"\n",
    "else:\n",
    "    print \"No\"\n",
    "        "
   ]
  },
  {
   "cell_type": "code",
   "execution_count": null,
   "metadata": {},
   "outputs": [],
   "source": [
    "# Write a program which can filter even numbers in a list by using filter function. The list is: [1,2,3,4,5,6,7,8,9,10].\n",
    "\"\"\"Hints: use filter() to filter some elements in a list. Use lambda to define anonymous functions.\"\"\"\n",
    "\n",
    "filter(lambda x: x % 2==0, range(1,21))"
   ]
  },
  {
   "cell_type": "code",
   "execution_count": null,
   "metadata": {},
   "outputs": [],
   "source": [
    "# Write a program which can map() to make a list whose elements are square of elements in [1,2,3,4,5,6,7,8,9,10].\n",
    "\"\"\"Hints: Use map() to generate a list. Use lambda to define anonymous functions.\"\"\"\n",
    "    \n",
    "map(lambda x: x**2, range(1,21))"
   ]
  },
  {
   "cell_type": "code",
   "execution_count": null,
   "metadata": {},
   "outputs": [],
   "source": [
    "# Write a program which can map() and filter() to make a list whose elements are square of even number in [1,2,3,4,5,6,7,8,9,10].\n",
    "\"\"\"Hints: Use map() to generate a list. Use filter() to filter elements of a list. Use lambda to define anonymous functions.\"\"\"\n",
    "\n",
    "map(lambda y:y**2, filter(lambda x: x%2==0, range(1,21)))"
   ]
  },
  {
   "cell_type": "code",
   "execution_count": null,
   "metadata": {},
   "outputs": [],
   "source": [
    "# Write a program which can filter() to make a list whose elements are even number between 1 and 20 (both included).\n",
    "\"\"\"AnalytixLabs, Website: www.analytixlabs.co.in Email: info@analytixlabs.co.in phone: +91-88021-73069\n",
    "Hints: Use filter() to filter elements of a list. Use lambda to define anonymous functions.\"\"\"\n",
    "\n",
    "filter(lambda x: x%2==0, range(1,21))"
   ]
  },
  {
   "cell_type": "code",
   "execution_count": null,
   "metadata": {},
   "outputs": [],
   "source": [
    "# Write a program which can map() to make a list whose elements are square of numbers between 1 and 20 (both included).\n",
    "\"\"\"Hints: Use map() to generate a list. Use lambda to define anonymous functions.\"\"\"\n",
    "\n",
    "map(lambda x:x**2, range(1,21))"
   ]
  },
  {
   "cell_type": "code",
   "execution_count": null,
   "metadata": {},
   "outputs": [],
   "source": [
    "# Define a class named American which has a static method called printNationality.\n",
    "\"\"\"Hints: Use @staticmethod decorator to define class static method.\"\"\"\n",
    "\n",
    "class American():\n",
    "    @staticmethod #\n",
    "    def printNationality():\n",
    "        print \"America\"\n",
    "an = American()      \n",
    "an.printNationality()\n",
    "American.printNationality()      "
   ]
  },
  {
   "cell_type": "code",
   "execution_count": null,
   "metadata": {},
   "outputs": [],
   "source": [
    "#  Define a class named American and its subclass NewYorker.\n",
    "\"\"\"Hints: Use class Subclass(ParentClass) to define a subclass.\"\"\"\n",
    "\n",
    "class American():\n",
    "    pass\n",
    "class NewYorker(American):\n",
    "    pass"
   ]
  },
  {
   "cell_type": "code",
   "execution_count": null,
   "metadata": {},
   "outputs": [],
   "source": [
    "#52.Define a class named Circle which can be constructed by a radius. The Circle class has a method which can compute the area.\n",
    "\"\"\"Hints: Use def methodName(self) to define a method.\"\"\"\n",
    "    \n",
    "class circle():\n",
    "    def __init__(self,r):\n",
    "        self.r = r\n",
    "    def area(self):\n",
    "        return 3.14*self.r**2\n",
    "\n",
    "areacircle = circle(4)\n",
    "print areacircle.area()"
   ]
  },
  {
   "cell_type": "code",
   "execution_count": null,
   "metadata": {},
   "outputs": [],
   "source": [
    "# Define a class named Rectangle which can be constructed by a length and width. The Rectangle class has a method which can compute the area.\n",
    "\"\"\" Hints: Use def methodName(self) to define a method.\"\"\"\n",
    "\n",
    "class rectangle():\n",
    "    def __init__(self,l,w):\n",
    "        self.l = l\n",
    "        self.w = w\n",
    "    def area(self):\n",
    "        return self.l*self.w\n",
    "\n",
    "arearec = rectangle(2,3)\n",
    "print arearec.area()"
   ]
  },
  {
   "cell_type": "code",
   "execution_count": null,
   "metadata": {},
   "outputs": [],
   "source": [
    "# Define a class named Shape and its subclass Square. The Square class has an init function which takes a length as argument. Both classes have a area function which can print the area of the shape where Shape's area is 0 by default.\n",
    "\"\"\"Hints: To override a method in super class, we can define a method with the same name in the super class.\"\"\"\n",
    "\n",
    "class shape():\n",
    "    def __init__(self):\n",
    "        pass\n",
    "    def area(self):\n",
    "        return 0\n",
    "\n",
    "class square(shape):\n",
    "    def __init__(self,l):\n",
    "        shape.__init__(self)\n",
    "        self.l = l\n",
    "    def area(self):\n",
    "        return self.l*self.l\n",
    "\n",
    "asquare= square(3)\n",
    "print asquare.area()    "
   ]
  },
  {
   "cell_type": "code",
   "execution_count": null,
   "metadata": {},
   "outputs": [],
   "source": [
    "# Write a function to compute 5/0 and use try/except to catch the exceptions.\n",
    "\"\"\"Hints: Use try/except to catch exceptions.\"\"\"\n",
    "\n",
    "try:\n",
    "    5/0\n",
    "except Exception as e:\n",
    "    print \"Caught an error: \" + str(e)"
   ]
  },
  {
   "cell_type": "code",
   "execution_count": null,
   "metadata": {},
   "outputs": [],
   "source": [
    "# Define a custom exception class which takes a string message as attribute.\n",
    "\"\"\"Hints: To define a custom exception, we need to define a class inherited from Exception.\"\"\"\n",
    "\n",
    "class MyError(Exception):\n",
    "    \"\"\"My own exception class\n",
    "\n",
    "    Attributes:\n",
    "        msg  -- explanation of the error\n",
    "    \"\"\"\n",
    "\n",
    "    def __init__(self, msg):\n",
    "        self.msg = msg\n",
    "\n",
    "error = MyError(\"something wrong\")"
   ]
  },
  {
   "cell_type": "code",
   "execution_count": null,
   "metadata": {},
   "outputs": [],
   "source": [
    "#  Assuming that we have some email addresses in the \"username@companyname.com\" format, please write program to print the user name of a given email address. Both user names and company names are composed of letters only.\n",
    "\"\"\"If the following email address is given as input to the program: Chandra@analytixlabs.com\n",
    "Then, the output of the program should be: Chandra\n",
    "AnalytixLabs, Website: www.analytixlabs.co.in Email: info@analytixlabs.co.in phone: +91-88021-73069\n",
    "In case of input data being supplied to the question, it should be assumed to be a console input.\n",
    "Hints: Use \\w to match letters.\"\"\"\n",
    "    \n",
    "import re\n",
    "import pandas as pd\n",
    "\n",
    "var = raw_input(\"Enter an email address:\")\n",
    "\n",
    "re.match(\"(\\w+)@((\\w+\\.)+(com))\",var).group(1)"
   ]
  },
  {
   "cell_type": "code",
   "execution_count": null,
   "metadata": {},
   "outputs": [],
   "source": [
    "# Assuming that we have some email addresses in the \"username@companyname.com\" format, please write program to print the company name of a given email address. Both user names and company names are composed of letters only.\n",
    "\"\"\"If the following email address is given as input to the program: Chandra@analytixlabs.com\n",
    "Then, the output of the program should be: analytixlabs\n",
    "In case of input data being supplied to the question, it should be assumed to be a console input.\n",
    "Hints: Use \\w to match letters\"\"\"\n",
    "\n",
    "var = raw_input(\"Enter an email address:\")\n",
    "\n",
    "re.match(\"(\\w+)@(\\w+)\\.+(com)\",var).group(2)"
   ]
  },
  {
   "cell_type": "code",
   "execution_count": null,
   "metadata": {},
   "outputs": [],
   "source": [
    "# Write a program which accepts a sequence of words separated by whitespace as input to print the words composed of digits only.\n",
    "\"\"\"If the following words are given as input to the program: 2 cats and 3 dogs.\n",
    "Then, the output of the program should be: ['2', '3']\n",
    "In case of input data being supplied to the question, it should be assumed to be a console input.\n",
    "Hints: Use re.findall() to find all substring using regex.\"\"\"\n",
    "    \n",
    "inputstr = raw_input(\"Enter a string:\")\n",
    "inputstr = [x for x in var if x.isdigit()]\n",
    "print inputstr"
   ]
  },
  {
   "cell_type": "code",
   "execution_count": null,
   "metadata": {},
   "outputs": [],
   "source": [
    "# Print a unicode string \"hello world\".\n",
    "\"\"\"Hints: Use u'strings' format to define unicode string.\"\"\"\n",
    "\n",
    "stringUni = u'hello world'\n",
    "print stringUni"
   ]
  },
  {
   "cell_type": "code",
   "execution_count": null,
   "metadata": {},
   "outputs": [],
   "source": [
    "# Write a program to read an ASCII string and to convert it to a unicode string encoded by utf-8.\n",
    "\"\"\"Hints: Use unicode() function to convert.\"\"\"\n",
    "\n",
    "s = raw_input()\n",
    "UnicodeString = unicode( s ,\"utf-8\")\n",
    "print UnicodeString"
   ]
  },
  {
   "cell_type": "code",
   "execution_count": null,
   "metadata": {},
   "outputs": [],
   "source": [
    "# Write a special comment to indicate a Python source code file is in unicode.\n",
    "# -*- coding: utf-8 -*-\n"
   ]
  },
  {
   "cell_type": "code",
   "execution_count": null,
   "metadata": {},
   "outputs": [],
   "source": [
    "# Please write a program using generator to print the even numbers between 0 and n in comma separated form while n is input by console.\n",
    "\"\"\"Example: If the following n is given as input to the program: 10\n",
    "Then, the output of the program should be: 0,2,4,6,8,10\n",
    "Hints: Use yield to produce the next value in generator. In case of input data being supplied to the question, it should be assumed to be a console input.\"\"\" \n",
    "\n",
    "n= input(\"Enter a number\")\n",
    "\n",
    "l = []\n",
    "\n",
    "for x in range(0,n):\n",
    "    if x%2 ==0:\n",
    "        l.append(str(x))\n",
    "print ','.join(l)"
   ]
  },
  {
   "cell_type": "code",
   "execution_count": null,
   "metadata": {},
   "outputs": [],
   "source": [
    "# Please write a program using generator to print the numbers which can be divisible by 5 and 7 between 0 and n in comma separated form while n is input by console.\n",
    "\"\"\"If the following n is given as input to the program: 100\n",
    "Then, the output of the program should be: 0, 35, 70\n",
    "Hints: Use yield to produce the next value in generator. In case of input data being supplied to the question, it should be assumed to be a console input.\"\"\"\n",
    "\n",
    "n= input(\"Enter a number\")\n",
    "\n",
    "l = []\n",
    "\n",
    "for x in range(0,n):\n",
    "    if (x%5 ==0) and (x%7 ==0):\n",
    "        l.append(str(x))\n",
    "print ','.join(l)"
   ]
  },
  {
   "cell_type": "code",
   "execution_count": null,
   "metadata": {},
   "outputs": [],
   "source": [
    "# Please write assert statements to verify that every number in the list [2,4,6,8] is even.\n",
    "\"\"\"Hints: Use \"assert expression\" to make assertion.\"\"\"\n",
    "\n",
    "l = [2,4,6,8] \n",
    "\n",
    "for i in l:\n",
    "    assert i% 2 ==0"
   ]
  },
  {
   "cell_type": "code",
   "execution_count": null,
   "metadata": {},
   "outputs": [],
   "source": [
    "# Please write a program which accepts basic mathematic expression from console and print the evaluation result.\n",
    "\"\"\"If the following string is given as input to the program: 35+3\n",
    "Then, the output of the program should be: 38\n",
    "Hints: Use eval() to evaluate an expression.\"\"\"\n",
    "\n",
    "maths = raw_input()\n",
    "print eval(maths)"
   ]
  },
  {
   "cell_type": "code",
   "execution_count": null,
   "metadata": {},
   "outputs": [],
   "source": [
    "# Please generate a random float where the value is between 10 and 100 using Python math module.\n",
    "\"\"\"Hints: Use random.random() to generate a random float in [0,1].\"\"\"\n",
    "\n",
    "import math as mt\n",
    "import numpy as np\n",
    "import random\n",
    "\n",
    "random.random()*100"
   ]
  },
  {
   "cell_type": "code",
   "execution_count": null,
   "metadata": {},
   "outputs": [],
   "source": [
    "# Please generate a random float where the value is between 5 and 95 using Python math module.\n",
    "\"\"\"Hints: Use random.random() to generate a random float in [0,1].\"\"\"\n",
    "    \n",
    "random.random()*100-5"
   ]
  },
  {
   "cell_type": "code",
   "execution_count": null,
   "metadata": {},
   "outputs": [],
   "source": [
    "# Please write a program to output a random even number between 0 and 10 inclusive using random module and list comprehension.\n",
    "\"\"\"Hints: Use random.choice() to a random element from a list.\"\"\"\n",
    "    \n",
    "random.choice([i for i in range(11) if i%2==0])"
   ]
  },
  {
   "cell_type": "code",
   "execution_count": null,
   "metadata": {},
   "outputs": [],
   "source": [
    "# Please write a program to output a random number, which is divisible by 5 and 7, between 0 and 10 inclusive using random module and list comprehension.\n",
    "\"\"\"Hints: Use random.choice() to a random element from a list.\"\"\"\n",
    "\n",
    "random.choice([i for i in range(100) if (i%5==0) and (i%7==0)])"
   ]
  },
  {
   "cell_type": "code",
   "execution_count": null,
   "metadata": {},
   "outputs": [],
   "source": [
    "# Please write a program to generate a list with 5 random numbers between 100 and 200 inclusive.\n",
    "\"\"\"Hints: Use random.sample() to generate a list of random values.\"\"\"\n",
    "\n",
    "random.sample(range(100,201),5)"
   ]
  },
  {
   "cell_type": "code",
   "execution_count": null,
   "metadata": {},
   "outputs": [],
   "source": [
    "# Please write a program to randomly generate a list with 5 even numbers between 100 and 200 inclusive.\n",
    "\"\"\"Hints: Use random.sample() to generate a list of random values.\"\"\"\n",
    "    \n",
    "random.sample([i for i in range(100,201) if i%2==0],5)"
   ]
  },
  {
   "cell_type": "code",
   "execution_count": null,
   "metadata": {},
   "outputs": [],
   "source": [
    "# Please write a program to randomly generate a list with 5 numbers, which are divisible by 5 and 7 , between 1 and 1000 inclusive.\n",
    "\"\"\"Hints: Use random.sample() to generate a list of random values.\"\"\"\n",
    "\n",
    "random.sample([i for i in range(1,1001) if (i%5==0) and (i%7==0)],5)"
   ]
  },
  {
   "cell_type": "code",
   "execution_count": null,
   "metadata": {},
   "outputs": [],
   "source": [
    "# Please write a program to randomly print a integer number between 7 and 15 inclusive.\n",
    "\"\"\"Hints: Use random.randrange() to a random integer in a given range.\"\"\"\n",
    "\n",
    "random.randrange(7,16)"
   ]
  },
  {
   "cell_type": "code",
   "execution_count": null,
   "metadata": {},
   "outputs": [],
   "source": [
    "# Please write a program to compress and decompress the string \"hello world!hello world!hello world!hello world!\".\n",
    "\"\"\"Hints: Use zlib.compress() and zlib.decompress() to compress and decompress a string.\"\"\"\n",
    "\n",
    "import zlib\n",
    "\n",
    "s = \"hello world!hello world!hello world!hello world!\"\n",
    "\n",
    "compress = zlib.compress(s)\n",
    "\n",
    "print compress\n",
    "print zlib.decompress(compress)"
   ]
  },
  {
   "cell_type": "code",
   "execution_count": null,
   "metadata": {},
   "outputs": [],
   "source": [
    "# Please write a program to print the running time of execution of \"1+1\" for 100 times.\n",
    "\"\"\"Hints: Use timeit() function to measure the running time.\"\"\"\n",
    "\n",
    "%%timeit\n",
    "\"for i in range(101):1+1\""
   ]
  },
  {
   "cell_type": "code",
   "execution_count": null,
   "metadata": {},
   "outputs": [],
   "source": [
    "# Please write a program to shuffle and print the list [3,6,7,8].\n",
    "\"\"\"Hints: Use shuffle() function to shuffle a list.\"\"\"\n",
    "\n",
    "from random import shuffle\n",
    "l = [3,6,7,8]\n",
    "shuffle(l)\n",
    "print l"
   ]
  },
  {
   "cell_type": "code",
   "execution_count": null,
   "metadata": {},
   "outputs": [],
   "source": [
    "# Please write a program to generate all sentences where subject is in [\"I\", \"You\"] and verb is in [\"Play\", \"Love\"] and the object is in [\"Hockey\",\"Football\"].\n",
    "\"\"\"Hints: Use list[index] notation to get a element from a list.\"\"\"\n",
    "\n",
    "subjects = [\"I\", \"You\"]\n",
    "verbs = [\"Play\", \"Love\"]\n",
    "objects =[\"Hockey\",\"Football\"]\n",
    "\n",
    "for i in range(len(subjects)):\n",
    "    for j in range(len(verbs)):\n",
    "        for k in range(len(objects)):\n",
    "            print \"%s%s%s.\" % (subjects[i],verbs[j],objects[k])"
   ]
  },
  {
   "cell_type": "code",
   "execution_count": null,
   "metadata": {},
   "outputs": [],
   "source": [
    "# Please write a program to print the list after removing delete even numbers in [5,6,77,45,22,12,24].\n",
    "\"\"\"Hints: Use list comprehension to delete a bunch of element from a list.\"\"\"\n",
    "    \n",
    "l = [5,6,77,45,22,12,24]\n",
    "l = [x for x in l if x % 2 !=0]\n",
    "print l"
   ]
  },
  {
   "cell_type": "code",
   "execution_count": null,
   "metadata": {},
   "outputs": [],
   "source": [
    "# By using list comprehension, please write a program to print the list after removing delete numbers which are divisible by 5 and 7 in [12,24,35,70,88,120,155].\n",
    "\"\"\"Hints: Use list comprehension to delete a bunch of element from a list.\"\"\"\n",
    "\n",
    "l = [12,24,35,70,88,120,155]\n",
    "l = [x for x in l if (x%5 !=0) and (x%7!=0)]\n",
    "print l\n",
    "        "
   ]
  },
  {
   "cell_type": "code",
   "execution_count": null,
   "metadata": {},
   "outputs": [],
   "source": [
    "# By using list comprehension, please write a program to print the list after removing the 0th, 2nd, 4th,6th numbers in [12,24,35,70,88,120,155].\n",
    "\"\"\"Hints: Use list comprehension to delete a bunch of element from a list. Use enumerate() to get (index, value) tuple.\"\"\"\n",
    "\n",
    "l = [12,24,35,70,88,120,155]\n",
    "l = [x for i,x in enumerate(l) if i not in (0,2,4,6)]\n",
    "print l"
   ]
  },
  {
   "cell_type": "code",
   "execution_count": null,
   "metadata": {},
   "outputs": [],
   "source": [
    "# By using list comprehension, please write a program generate a 3*5*8 3D array whose each element is 0.\n",
    "\"\"\"Hints: Use list comprehension to make an array.\"\"\"\n",
    "\n",
    "import numpy as np\n",
    "np.zeros([3,5,8])"
   ]
  },
  {
   "cell_type": "code",
   "execution_count": null,
   "metadata": {},
   "outputs": [],
   "source": [
    "# By using list comprehension, please write a program to print the list after removing the 0th,4th,5th numbers in [12,24,35,70,88,120,155].\n",
    "\"\"\"Hints: Use list comprehension to delete a bunch of element from a list. Use enumerate() to get (index, value) tuple.\"\"\"\n",
    "\n",
    "l = [12,24,35,70,88,120,155]\n",
    "l = [x for i,x in enumerate(l) if i not in (0,4,5)]\n",
    "print l"
   ]
  },
  {
   "cell_type": "code",
   "execution_count": null,
   "metadata": {},
   "outputs": [],
   "source": [
    "# By using list comprehension, please write a program to print the list after removing the value 24 in [12,24,35,24,88,120,155].\n",
    "\"\"\"Hints: Use list's remove method to delete a value.\"\"\"\n",
    "\n",
    "l = [12,24,35,24,88,120,155]\n",
    "l = [x for x in l if x !=24]\n",
    "print l"
   ]
  },
  {
   "cell_type": "code",
   "execution_count": null,
   "metadata": {},
   "outputs": [],
   "source": [
    "# With two given lists [1,3,6,78,35,55] and [12,24,35,24,88,120,155], write a program to make a list whose elements are intersection of the above given lists.\n",
    "\"\"\"Hints: Use set() and \"&=\" to do set intersection operation.\"\"\"\n",
    "\n",
    "a = set([1,3,6,78,35,55])\n",
    "b = a.intersection([12,24,35,24,88,120,155])\n",
    "b"
   ]
  },
  {
   "cell_type": "code",
   "execution_count": null,
   "metadata": {},
   "outputs": [],
   "source": [
    "# With a given list [12, 24, 35, 24, 88, 120, 155, 88, 120, 155], write a program to print this list after removing all duplicate values with original order reserved.\n",
    "\"\"\"Hints: Use set() to store a number of values without duplicate.\"\"\"\n",
    "\n",
    "l = [12, 24, 35, 24, 88, 120, 155, 88, 120, 155]\n",
    "order = list(set(l))\n",
    "order.reverse()\n",
    "order"
   ]
  },
  {
   "cell_type": "code",
   "execution_count": null,
   "metadata": {},
   "outputs": [],
   "source": [
    "# Define a class Person and its two child classes: Male and Female. All classes have a method \"getGender\" which can print \"Male\" for Male class and \"Female\" for Female class.\n",
    "\"\"\"Hints: Use Subclass(Parentclass) to define a child class.\"\"\"\n",
    "\n",
    "class Person():\n",
    "    def getGender(self):\n",
    "        print \"Unknown\"\n",
    "        \n",
    "class Male(Person):\n",
    "    def getGender(self):\n",
    "        print \"Male\"\n",
    "        \n",
    "class Female(Person):\n",
    "    def getGender(self):\n",
    "        print \"Female\"\n",
    "        \n",
    "aMale = Male()\n",
    "aFemale= Female()\n",
    "print aMale.getGender()\n",
    "print aFemale.getGender()"
   ]
  },
  {
   "cell_type": "code",
   "execution_count": null,
   "metadata": {},
   "outputs": [],
   "source": [
    "# Please write a program which count and print the numbers of each character in a string input by console.\n",
    "\"\"\"If the following string is given as input to the program: abcdefgabc\n",
    "Then, the output of the program should be:\n",
    "a,2\n",
    "c,2\n",
    "b,2\n",
    "e,1\n",
    "d,1\n",
    "g,1\n",
    "f,1\n",
    "Hints: Use dict to store key/value pairs. Use dict.get() method to lookup a key with default value.\"\"\"\n",
    "\n",
    "\n",
    "var = raw_input(\"Enter a string:\")\n",
    "charfreq = [var.count(x) for x in var]\n",
    "d=dict(zip(var,charfreq))\n",
    "print d"
   ]
  },
  {
   "cell_type": "code",
   "execution_count": null,
   "metadata": {},
   "outputs": [],
   "source": [
    "# Please write a program which accepts a string from console and print it in reverse order.\n",
    "\"\"\"If the following string is given as input to the program: rise to vote sir\n",
    "Then, the output of the program should be: ris etov ot esir\n",
    "Hints: Use list[::-1] to iterate a list in a reverse order.\"\"\"\n",
    "\n",
    "inputrev = raw_input(\"Enter a string:\")\n",
    "inputrev[::-1]"
   ]
  },
  {
   "cell_type": "code",
   "execution_count": null,
   "metadata": {},
   "outputs": [],
   "source": [
    "# Please write a program which accepts a string from console and print the characters that have even indexes.\n",
    "\"\"\"AnalytixLabs, Website: www.analytixlabs.co.in Email: info@analytixlabs.co.in phone: +91-88021-73069\n",
    "If the following string is given as input to the program: H1e2l3l4o5w6o7r8l9d\n",
    "Then, the output of the program should be: Helloworld\n",
    "Hints: Use list[::2] to iterate a list by step 2.\"\"\"\n",
    "\n",
    "inputstr = raw_input(\"Enter a string:\")\n",
    "inputstr[::2]"
   ]
  },
  {
   "cell_type": "code",
   "execution_count": null,
   "metadata": {},
   "outputs": [],
   "source": [
    "# Create a dictionary with phone numbers (phonebook = {“John”: 938477566, \"Jack”: 938377264, \"Jill”: 947662781}). Add \"Jake\" to the phonebook with the phone number 938273443, and remove Jill from the phonebook.\n",
    "\n",
    "phonebook = {\"John\":938477566, \"Jack\":938377264, \"Jill\": 947662781}\n",
    "\n",
    "phonebook[\"Jake\"] = 938273443\n",
    "\n",
    "del phonebook[\"Jill\"]"
   ]
  }
 ],
 "metadata": {
  "kernelspec": {
   "display_name": "Python 2",
   "language": "python",
   "name": "python2"
  },
  "language_info": {
   "codemirror_mode": {
    "name": "ipython",
    "version": 2
   },
   "file_extension": ".py",
   "mimetype": "text/x-python",
   "name": "python",
   "nbconvert_exporter": "python",
   "pygments_lexer": "ipython2",
   "version": "2.7.15"
  }
 },
 "nbformat": 4,
 "nbformat_minor": 2
}
